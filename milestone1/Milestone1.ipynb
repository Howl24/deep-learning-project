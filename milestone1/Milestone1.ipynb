{
 "cells": [
  {
   "cell_type": "markdown",
   "metadata": {},
   "source": [
    "# Milestone 1 - CS109B Project Group 29\n",
    "**\"Predicting Movie Genres\"**<br>\n",
    "**CS109B (Spring 2017) Final Project Group 29**<br>\n",
    "Calvin J Chiew, Tim Hagmann, Ji Hua<br>\n",
    "TF: Alyssa Wilson<br>"
   ]
  },
  {
   "cell_type": "code",
   "execution_count": 15,
   "metadata": {
    "collapsed": false
   },
   "outputs": [],
   "source": [
    "import json\n",
    "import numpy as np\n",
    "import pandas as pd\n",
    "import matplotlib\n",
    "import matplotlib.pyplot as plt\n",
    "%matplotlib inline\n",
    "import random\n",
    "from bs4 import BeautifulSoup\n",
    "import urllib\n",
    "from urllib import urlopen\n",
    "import threading\n",
    "from threading import Timer\n",
    "from time import time, sleep\n",
    "import io\n",
    "import seaborn as sns"
   ]
  },
  {
   "cell_type": "markdown",
   "metadata": {},
   "source": [
    "In this project, we want to predict movie genres using movie posters and other movie metadata. The two sources of data are TMDb and IMDb, which will be accessed using the TMDb API and IMDbPY package respectively."
   ]
  },
  {
   "cell_type": "markdown",
   "metadata": {},
   "source": [
    "## Our Favorite Movie"
   ]
  },
  {
   "cell_type": "markdown",
   "metadata": {},
   "source": [
    "Our favorite movie is \"The Shawshank Redemption\". Using the TMDb API, we obtain this movie's genre and poster path, which we link to below."
   ]
  },
  {
   "cell_type": "code",
   "execution_count": 22,
   "metadata": {
    "collapsed": false
   },
   "outputs": [
    {
     "data": {
      "text/plain": [
       "u'\\t/9O7gLzmreU0nGkIB6K3BsJbzvNv.jpg,,Drama,Crime'"
      ]
     },
     "execution_count": 22,
     "metadata": {},
     "output_type": "execute_result"
    }
   ],
   "source": [
    "def get_movie(movie_id):\n",
    "    url_string=\"https://api.themoviedb.org/3/movie/\"+str(movie_id)+\"?api_key=1cc37144dc84322526d9b17191ff00bb&language=en-US\"\n",
    "    url=urlopen(url_string)\n",
    "    content = url.read()\n",
    "    data=json.loads(content)\n",
    "    if 'status_code' in data:\n",
    "        pass\n",
    "    else:\n",
    "        line=u\"\"\n",
    "        line=line+u\"\\t\"+str(data['poster_path']).decode('utf8') ## poster path\n",
    "        ## genres\n",
    "        genres_string=\"\"\n",
    "        for g in data['genres']:\n",
    "            genres_string=genres_string+\",\"+g['name']\n",
    "        line=line+u\",\"+genres_string\n",
    "        return line\n",
    "    \n",
    "get_movie(278)"
   ]
  },
  {
   "cell_type": "markdown",
   "metadata": {},
   "source": [
    "![](https://image.tmdb.org/t/p/w185/9O7gLzmreU0nGkIB6K3BsJbzvNv.jpg)"
   ]
  },
  {
   "cell_type": "markdown",
   "metadata": {},
   "source": [
    "We compare this against the movie's genre listings on IMDb. In this case, they are exactly the same (although they may not necessarily be for other movies).\n",
    "- Genre tags of \"The Shawshank Redemption\" in TMDb: Drama, Crime\n",
    "- Genre tags of \"The Shawshank Redemption\" in IMDb: Drama, Crime"
   ]
  },
  {
   "cell_type": "markdown",
   "metadata": {},
   "source": [
    "---"
   ]
  },
  {
   "cell_type": "markdown",
   "metadata": {},
   "source": [
    "## Top 10 Movies of 2016"
   ]
  },
  {
   "cell_type": "code",
   "execution_count": 13,
   "metadata": {
    "collapsed": false
   },
   "outputs": [
    {
     "data": {
      "text/plain": [
       "{12: u'Adventure',\n",
       " 14: u'Fantasy',\n",
       " 16: u'Animation',\n",
       " 18: u'Drama',\n",
       " 27: u'Horror',\n",
       " 28: u'Action',\n",
       " 35: u'Comedy',\n",
       " 36: u'History',\n",
       " 37: u'Western',\n",
       " 53: u'Thriller',\n",
       " 80: u'Crime',\n",
       " 99: u'Documentary',\n",
       " 878: u'Science Fiction',\n",
       " 9648: u'Mystery',\n",
       " 10402: u'Music',\n",
       " 10749: u'Romance',\n",
       " 10751: u'Family',\n",
       " 10752: u'War',\n",
       " 10770: u'TV Movie'}"
      ]
     },
     "execution_count": 13,
     "metadata": {},
     "output_type": "execute_result"
    }
   ],
   "source": [
    "url = urlopen(\"https://api.themoviedb.org/3/genre/movie/list?api_key=1cc37144dc84322526d9b17191ff00bb&language=en-US\")\n",
    "content = url.read()\n",
    "data = json.loads(content)\n",
    "\n",
    "genre_dict={}\n",
    "for x in data['genres']:\n",
    "    genre_dict[x['id']]=x['name']\n",
    "\n",
    "genre_dict"
   ]
  },
  {
   "cell_type": "markdown",
   "metadata": {},
   "source": [
    "We see that TMDb uses a total of 19 categories for their genre classification, as listed above. Now, we retrieve a list of the top 10 most popular movies in 2016 and their genres from TMDb, as shown below."
   ]
  },
  {
   "cell_type": "code",
   "execution_count": 14,
   "metadata": {
    "collapsed": false
   },
   "outputs": [
    {
     "data": {
      "text/plain": [
       "{'Arrival': ['Drama', 'Science Fiction'],\n",
       " 'Captain America: Civil War': ['Action', 'Science Fiction'],\n",
       " 'Deadpool': ['Action', 'Adventure', 'Comedy', 'Romance'],\n",
       " 'Doctor Strange': ['Action', 'Adventure', 'Fantasy', 'Science Fiction'],\n",
       " 'Fantastic Beasts and Where to Find Them': ['Adventure', 'Action', 'Fantasy'],\n",
       " 'Finding Dory': ['Adventure', 'Animation', 'Comedy', 'Family'],\n",
       " 'Rogue One: A Star Wars Story': ['Action', 'Drama', 'Science Fiction', 'War'],\n",
       " 'Sing': ['Animation', 'Comedy', 'Drama', 'Family', 'Music'],\n",
       " 'Underworld: Blood Wars': ['Action', 'Horror'],\n",
       " 'Zootopia': ['Animation', 'Adventure', 'Family', 'Comedy']}"
      ]
     },
     "execution_count": 14,
     "metadata": {},
     "output_type": "execute_result"
    }
   ],
   "source": [
    "url = urlopen(\"https://api.themoviedb.org/3/discover/movie?api_key=1cc37144dc84322526d9b17191ff00bb&language=en-US&sort_by=popularity.desc&include_adult=false&include_video=false&page=1&primary_release_year=2016\")\n",
    "content = url.read()\n",
    "data = json.loads(content)\n",
    "\n",
    "movie_dict={}\n",
    "count=0\n",
    "for x in data['results']:\n",
    "    count+=1\n",
    "    genre_ids=x['genre_ids']\n",
    "    genre_list=[]\n",
    "    for i in genre_ids:\n",
    "        genre_list.append(str(genre_dict[i]))\n",
    "    movie_dict[str(x['title'])]=genre_list\n",
    "    if count>=10:\n",
    "        break\n",
    "        \n",
    "movie_dict"
   ]
  },
  {
   "cell_type": "markdown",
   "metadata": {},
   "source": [
    "---"
   ]
  },
  {
   "cell_type": "markdown",
   "metadata": {},
   "source": [
    "## Data Scraping"
   ]
  },
  {
   "cell_type": "markdown",
   "metadata": {},
   "source": [
    "We used the TMDb API to extract information on movies from `tmdb_id` of 1 to 10000. Half of the `tmdb_id`'s were empty, returning about 5000 records.\n",
    "\n",
    "We note that the `tmdb_id`'s run up to about 600000. Given that the TMDb API only allows 40 queries every 10 seconds, we estimate it will take us about 42 hours to scrape the entire database. \n",
    "\n",
    "Therefore, for the purposes of this milestone and EDA, we will simply use this limited sample of 5000 records, in view of time constraints. We checked the release years of these movies and they do represent a good mix of old and recent movies. Moving forward, we will scrape the full database of movies to prepare our training data in Milestone 2."
   ]
  },
  {
   "cell_type": "code",
   "execution_count": 16,
   "metadata": {
    "collapsed": true
   },
   "outputs": [],
   "source": [
    "class RepeatedTimer(object):\n",
    "    def __init__(self, interval, function, *args, **kwargs):\n",
    "        self._timer     = None\n",
    "        self.interval   = interval\n",
    "        self.function   = function\n",
    "        self.args       = args\n",
    "        self.kwargs     = kwargs\n",
    "        self.is_running = False\n",
    "        self.start()\n",
    "\n",
    "    def _run(self):\n",
    "        self.is_running = False\n",
    "        self.start()\n",
    "        self.function(*self.args, **self.kwargs)\n",
    "\n",
    "    def start(self):\n",
    "        if not self.is_running:\n",
    "            self._timer = Timer(self.interval, self._run)\n",
    "            self._timer.start()\n",
    "            self.is_running = True\n",
    "\n",
    "    def stop(self):\n",
    "        self._timer.cancel()\n",
    "        self.is_running = False"
   ]
  },
  {
   "cell_type": "code",
   "execution_count": null,
   "metadata": {
    "collapsed": true
   },
   "outputs": [],
   "source": [
    "target = io.open(\"G:/data/raw/information/tmdb_movie_info.txt\", 'w',encoding=\"utf8\")\n",
    "line=u\"tmdb_id\\timdb_id\\ttitle\\tplot\\tposter_path\\trelease_date\\tbudget\\trevenue\\truntime\\tpopularity\\tuser_rating\\tproduction_company\\tgenres\"\n",
    "target.write(line+'\\n')\n",
    "for i in range(250):\n",
    "    startTime = time()\n",
    "    movie_ids=np.arange(40*i+1,40*(i+1)+1)\n",
    "    for movie_id in movie_ids:\n",
    "        url_string=\"https://api.themoviedb.org/3/movie/\"+str(movie_id)+\"?api_key=1cc37144dc84322526d9b17191ff00bb&language=en-US\"\n",
    "        url=urlopen(url_string)\n",
    "        content = url.read()\n",
    "        data=json.loads(content)\n",
    "        if 'status_code' in data:\n",
    "            pass\n",
    "        else:\n",
    "            line=u\"\"\n",
    "            line=line+str(data['id']).decode('utf8') #tmdb_id\n",
    "            line=line+u\"\\t\"+data['imdb_id'].replace(\"t\",\"\") #imdb_id\n",
    "            line=line+u\"\\t\"+data['title'] ## title\n",
    "            line=line+u\"\\t\"+data['overview'] ##plot\n",
    "            line=line+u\"\\t\"+str(data['poster_path']).decode('utf8') ## poster path\n",
    "            line=line+u\"\\t\"+data['release_date'] ## release date\n",
    "            line=line+u\"\\t\"+str(data['budget']).decode('utf8') ## budget\n",
    "            line=line+u\"\\t\"+str(data['revenue']).decode('utf8') ##revenue\n",
    "            line=line+u\"\\t\"+str(data['runtime']).decode('utf8') ##runtime\n",
    "            line=line+u\"\\t\"+str(data['popularity']).decode('utf8')##tmdb popularity\n",
    "            line=line+u\"\\t\"+str(data['vote_average']).decode('utf8') ## user rating\n",
    "            ## production company\n",
    "            company_string=\"\"\n",
    "            for c in data['production_companies']:\n",
    "                company_string=company_string+\",\"+c['name']\n",
    "            line=line+u\"\\t\"+company_string\n",
    "\n",
    "            ## genres\n",
    "            genres_string=\"\"\n",
    "            for g in data['genres']:\n",
    "                genres_string=genres_string+\",\"+g['name']\n",
    "            line=line+u\"\\t\"+genres_string\n",
    "            target.write(line+'\\n')\n",
    "    endTime = time()-startTime\n",
    "    target.flush()\n",
    "    print i,endTime\n",
    "    if endTime<10.0:\n",
    "        sleep(10.0-endTime)\n",
    "    else:\n",
    "        continue\n",
    "\n",
    "target.close()"
   ]
  },
  {
   "cell_type": "markdown",
   "metadata": {},
   "source": [
    "You can view the raw data file we gathered on our GitHub repository here."
   ]
  },
  {
   "cell_type": "markdown",
   "metadata": {},
   "source": [
    "---"
   ]
  },
  {
   "cell_type": "markdown",
   "metadata": {},
   "source": [
    "## Heatmap of Genre Correlation"
   ]
  },
  {
   "cell_type": "markdown",
   "metadata": {},
   "source": [
    "In this section, we want to generate a heatmap of the movie genre pairs, to see which genres tend to go together. We pre-processed the data we scraped earlier into a csv file, with columns of binary flags for the 19 TMDb genres, and about 5000 rows of movies."
   ]
  },
  {
   "cell_type": "code",
   "execution_count": 33,
   "metadata": {
    "collapsed": false
   },
   "outputs": [
    {
     "data": {
      "text/html": [
       "<div>\n",
       "<table border=\"1\" class=\"dataframe\">\n",
       "  <thead>\n",
       "    <tr style=\"text-align: right;\">\n",
       "      <th></th>\n",
       "      <th>tmdb_id</th>\n",
       "      <th>Adventure</th>\n",
       "      <th>Fantasy</th>\n",
       "      <th>Animation</th>\n",
       "      <th>Drama</th>\n",
       "      <th>Horror</th>\n",
       "      <th>Action</th>\n",
       "      <th>Comedy</th>\n",
       "      <th>History</th>\n",
       "      <th>Western</th>\n",
       "      <th>Thriller</th>\n",
       "      <th>Crime</th>\n",
       "      <th>Documentary</th>\n",
       "      <th>Science Fiction</th>\n",
       "      <th>Mystery</th>\n",
       "      <th>Music</th>\n",
       "      <th>Romance</th>\n",
       "      <th>Family</th>\n",
       "      <th>War</th>\n",
       "      <th>TVMovie</th>\n",
       "    </tr>\n",
       "  </thead>\n",
       "  <tbody>\n",
       "    <tr>\n",
       "      <th>0</th>\n",
       "      <td>616</td>\n",
       "      <td>0</td>\n",
       "      <td>0</td>\n",
       "      <td>0</td>\n",
       "      <td>1</td>\n",
       "      <td>0</td>\n",
       "      <td>0</td>\n",
       "      <td>0</td>\n",
       "      <td>0</td>\n",
       "      <td>0</td>\n",
       "      <td>0</td>\n",
       "      <td>1</td>\n",
       "      <td>0</td>\n",
       "      <td>0</td>\n",
       "      <td>0</td>\n",
       "      <td>0</td>\n",
       "      <td>0</td>\n",
       "      <td>0</td>\n",
       "      <td>0</td>\n",
       "      <td>0</td>\n",
       "    </tr>\n",
       "    <tr>\n",
       "      <th>1</th>\n",
       "      <td>1302</td>\n",
       "      <td>0</td>\n",
       "      <td>0</td>\n",
       "      <td>0</td>\n",
       "      <td>1</td>\n",
       "      <td>0</td>\n",
       "      <td>0</td>\n",
       "      <td>1</td>\n",
       "      <td>0</td>\n",
       "      <td>0</td>\n",
       "      <td>0</td>\n",
       "      <td>0</td>\n",
       "      <td>0</td>\n",
       "      <td>0</td>\n",
       "      <td>0</td>\n",
       "      <td>0</td>\n",
       "      <td>0</td>\n",
       "      <td>0</td>\n",
       "      <td>0</td>\n",
       "      <td>0</td>\n",
       "    </tr>\n",
       "    <tr>\n",
       "      <th>2</th>\n",
       "      <td>2364</td>\n",
       "      <td>0</td>\n",
       "      <td>0</td>\n",
       "      <td>0</td>\n",
       "      <td>0</td>\n",
       "      <td>0</td>\n",
       "      <td>0</td>\n",
       "      <td>1</td>\n",
       "      <td>0</td>\n",
       "      <td>0</td>\n",
       "      <td>0</td>\n",
       "      <td>0</td>\n",
       "      <td>0</td>\n",
       "      <td>0</td>\n",
       "      <td>0</td>\n",
       "      <td>0</td>\n",
       "      <td>0</td>\n",
       "      <td>0</td>\n",
       "      <td>0</td>\n",
       "      <td>0</td>\n",
       "    </tr>\n",
       "    <tr>\n",
       "      <th>3</th>\n",
       "      <td>2940</td>\n",
       "      <td>0</td>\n",
       "      <td>0</td>\n",
       "      <td>0</td>\n",
       "      <td>0</td>\n",
       "      <td>0</td>\n",
       "      <td>1</td>\n",
       "      <td>0</td>\n",
       "      <td>0</td>\n",
       "      <td>0</td>\n",
       "      <td>1</td>\n",
       "      <td>1</td>\n",
       "      <td>0</td>\n",
       "      <td>0</td>\n",
       "      <td>0</td>\n",
       "      <td>0</td>\n",
       "      <td>0</td>\n",
       "      <td>0</td>\n",
       "      <td>0</td>\n",
       "      <td>0</td>\n",
       "    </tr>\n",
       "    <tr>\n",
       "      <th>4</th>\n",
       "      <td>3657</td>\n",
       "      <td>0</td>\n",
       "      <td>0</td>\n",
       "      <td>0</td>\n",
       "      <td>0</td>\n",
       "      <td>0</td>\n",
       "      <td>0</td>\n",
       "      <td>0</td>\n",
       "      <td>0</td>\n",
       "      <td>0</td>\n",
       "      <td>0</td>\n",
       "      <td>0</td>\n",
       "      <td>1</td>\n",
       "      <td>0</td>\n",
       "      <td>0</td>\n",
       "      <td>0</td>\n",
       "      <td>0</td>\n",
       "      <td>0</td>\n",
       "      <td>0</td>\n",
       "      <td>0</td>\n",
       "    </tr>\n",
       "  </tbody>\n",
       "</table>\n",
       "</div>"
      ],
      "text/plain": [
       "   tmdb_id  Adventure  Fantasy  Animation  Drama  Horror  Action  Comedy  \\\n",
       "0      616          0        0          0      1       0       0       0   \n",
       "1     1302          0        0          0      1       0       0       1   \n",
       "2     2364          0        0          0      0       0       0       1   \n",
       "3     2940          0        0          0      0       0       1       0   \n",
       "4     3657          0        0          0      0       0       0       0   \n",
       "\n",
       "   History  Western  Thriller  Crime  Documentary  Science Fiction  Mystery  \\\n",
       "0        0        0         0      1            0                0        0   \n",
       "1        0        0         0      0            0                0        0   \n",
       "2        0        0         0      0            0                0        0   \n",
       "3        0        0         1      1            0                0        0   \n",
       "4        0        0         0      0            1                0        0   \n",
       "\n",
       "   Music  Romance  Family  War  TVMovie  \n",
       "0      0        0       0    0        0  \n",
       "1      0        0       0    0        0  \n",
       "2      0        0       0    0        0  \n",
       "3      0        0       0    0        0  \n",
       "4      0        0       0    0        0  "
      ]
     },
     "execution_count": 33,
     "metadata": {},
     "output_type": "execute_result"
    }
   ],
   "source": [
    "# load csv file\n",
    "genres = pd.read_csv('genres_10k.txt')\n",
    "\n",
    "# view first few rows\n",
    "genres.head()"
   ]
  },
  {
   "cell_type": "code",
   "execution_count": 34,
   "metadata": {
    "collapsed": true
   },
   "outputs": [],
   "source": [
    "# drop \"tmdb_id\" column\n",
    "genres = genres.drop('tmdb_id', axis=1)\n",
    "\n",
    "# generate correlation matrix\n",
    "corrmat = genres.corr()"
   ]
  },
  {
   "cell_type": "code",
   "execution_count": 37,
   "metadata": {
    "collapsed": false
   },
   "outputs": [
    {
     "data": {
      "image/png": "[encoded data removed]",
      "text/plain": [
       "<matplotlib.figure.Figure at 0xedd5828>"
      ]
     },
     "metadata": {},
     "output_type": "display_data"
    }
   ],
   "source": [
    "# set appropriate font and dpi\n",
    "sns.set(font_scale=1.2)\n",
    "sns.set_style({\"savefig.dpi\": 100})\n",
    "\n",
    "# plot heatmap\n",
    "ax = sns.heatmap(corrmat, linewidths=.1)"
   ]
  },
  {
   "cell_type": "markdown",
   "metadata": {},
   "source": [
    "From the heatmap above, we see that the following pairs of genres tend to be strongly correlated: Action-Adventure, Animation-Family, Action-Thriller, History-War, Thriller-Crime and Thriller-Mystery. We might consider grouping these genres together in our model to reduce the number of outcome variable classes. \n",
    "\n",
    "In contrast, these pairs of genres are negatively correlated: Drama-Science Fiction and Comedy-Thriller.\n",
    "\n",
    "We did not have any records tagged as \"TVMovie\"."
   ]
  },
  {
   "cell_type": "markdown",
   "metadata": {},
   "source": [
    "---"
   ]
  },
  {
   "cell_type": "markdown",
   "metadata": {},
   "source": [
    "## Potential Challenges & Questions"
   ]
  },
  {
   "cell_type": "markdown",
   "metadata": {},
   "source": [
    "We forsee several challenges on this project, and plan to address them, as follows:\n",
    "- TMDb and IMDb may have different genre tags for a particular movie. In addition, the lengths of their genre listings may differ. To deal with this issue, we may match the tags from both databases and only consider the intersection of the two sets. Alternatively, we may just use the genre tags from one database only. \n",
    "- There are too many genres, and some are closely related. We may collapse some of the genres together into one group. However, in analyzing the outcome variable, we still feel it is natural for most movies to have more than one genre, as it is difficult for a movie to fall neatly into one category. Therefore, we need a model that can handle multiple outcomes.\n",
    "- There is an overwhelming amount of metadata available for each movie, especially on IMDb. Scraping and cleaning all of it will take a very long time. Instead, we will selectively choose variables we want to include in our model (discussed below).\n"
   ]
  },
  {
   "cell_type": "markdown",
   "metadata": {},
   "source": [
    "We conducted a brainstorming session to think of features associated with movie genre, and based on our beliefs, we identified the following variables, which we will use in our model to supplement the posters:\n",
    "- Title\n",
    "- Plot summary / keywords\n",
    "- Producer\n",
    "- Director\n",
    "- Writer\n",
    "- Cast (top-billed n cast, listed by importance)\n",
    "- Production company\n",
    "- Release date\n",
    "- Runtime\n",
    "- Country of origin / language\n",
    "- Budget\n",
    "- Revenue\n",
    "- Picture rating (eg. PG-13, R-21) (known as \"certificates\" on IMDb)\n",
    "- Average user rating\n",
    "- Whether the movie is a sequel or not"
   ]
  },
  {
   "cell_type": "markdown",
   "metadata": {},
   "source": [
    "Questions we have are:\n",
    "- How will we analyze textual information, such as titles and plot summaries?\n",
    "- If we train 2 separate models, one using movie posters and the other using movie metadata, how do we combine their predictions, and how much weight should be given to each model? "
   ]
  },
  {
   "cell_type": "markdown",
   "metadata": {},
   "source": [
    "---"
   ]
  },
  {
   "cell_type": "markdown",
   "metadata": {},
   "source": [
    "## Exploratory Data Analysis"
   ]
  },
  {
   "cell_type": "markdown",
   "metadata": {},
   "source": [
    "In this section, we do a preliminary exploration of the data we have, looking for variables that are potential predictors of movie genre, and visualizing how they are associated with genre.\n",
    "\n",
    "(Tim to fill this section with visualisations)\n",
    "\n",
    "Other EDA questions we would like to explore include:\n",
    "- Is length of movie title correlated with genre?\n",
    "- etc."
   ]
  },
  {
   "cell_type": "markdown",
   "metadata": {},
   "source": [
    "---"
   ]
  },
  {
   "cell_type": "markdown",
   "metadata": {},
   "source": [
    "## Next Steps"
   ]
  },
  {
   "cell_type": "markdown",
   "metadata": {
    "collapsed": true
   },
   "source": [
    "Moving onwards, we will complete the full wrangling and cleaning of data from TMDb and IMDb, including the posters. We intend to extract all movies in the TMDb database, then drop records that have missing poster paths and `imdb_id`'s. Then, we will extract the additional metadata we want for these movies from IMDb and match them to TMDb records based on `imdb_id`. We will decide how we want to regroup the genres and the exact forms of X's and Y's for the training and testing datasets."
   ]
  },
  {
   "cell_type": "markdown",
   "metadata": {},
   "source": [
    "---"
   ]
  }
 ],
 "metadata": {
  "anaconda-cloud": {},
  "kernelspec": {
   "display_name": "Python [Root]",
   "language": "python",
   "name": "Python [Root]"
  },
  "language_info": {
   "codemirror_mode": {
    "name": "ipython",
    "version": 2
   },
   "file_extension": ".py",
   "mimetype": "text/x-python",
   "name": "python",
   "nbconvert_exporter": "python",
   "pygments_lexer": "ipython2",
   "version": "2.7.12"
  }
 },
 "nbformat": 4,
 "nbformat_minor": 0
}
