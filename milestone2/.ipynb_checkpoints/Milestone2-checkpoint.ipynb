{
 "cells": [
  {
   "cell_type": "markdown",
   "metadata": {},
   "source": [
    "# Milestone 2 - CS109B Project Group 29\n",
    "**\"Predicting Movie Genres\"**<br>\n",
    "**CS109B (Spring 2017) Final Project Group 29**<br>\n",
    "Calvin J Chiew, Tim Hagmann, Ji Hua<br>\n",
    "TF: Rashmi Banthia<br>"
   ]
  },
  {
   "cell_type": "markdown",
   "metadata": {},
   "source": [
    "## Deliverables\n",
    "\n",
    "- Discussion about the imbalanced nature of the data and how you want to address it\n",
    "- Description of your data\n",
    "- What does your choice of Y look like?\n",
    "- Which features do you choose for X and why?\n",
    "- How do you sample your data, how many samples, and why?"
   ]
  },
  {
   "cell_type": "markdown",
   "metadata": {},
   "source": [
    "## Import Libraries"
   ]
  },
  {
   "cell_type": "code",
   "execution_count": 1,
   "metadata": {
    "collapsed": true
   },
   "outputs": [],
   "source": [
    "import json\n",
    "import numpy as np\n",
    "import pandas as pd\n",
    "import matplotlib\n",
    "import matplotlib.pyplot as plt\n",
    "%matplotlib inline\n",
    "import random\n",
    "from bs4 import BeautifulSoup\n",
    "import urllib\n",
    "from urllib import urlopen\n",
    "from urllib import urlretrieve\n",
    "import threading\n",
    "from threading import Timer\n",
    "from time import time, sleep\n",
    "import io\n",
    "import imdb"
   ]
  },
  {
   "cell_type": "markdown",
   "metadata": {},
   "source": [
    "## Data Sampling"
   ]
  },
  {
   "cell_type": "markdown",
   "metadata": {},
   "source": [
    "### Scraping from TMDb"
   ]
  },
  {
   "cell_type": "markdown",
   "metadata": {},
   "source": [
    "First, we used the TMDb API to scrape information on movies that have `tmdb_id` of 1 through 160,000 (see Milestone 1 for code). About 60,000 of these `tmdb_id`'s were empty, returning about 100,000 actual records.\n",
    "\n",
    "Given that `tmdb_id`'s are not assigned in chronological order or in any particular pattern, this 100,000 movies represent a **random** sample of all movies listed on TMDb (estimated to be around 300,000). We chose 100,000 as we believe it is a sufficiently large sample size to develop our traditional ML and deep learning models.\n",
    "\n",
    "We dropped about 30,000 records that were missing poster paths and `imdb_id`'s, leaving us with about 70,000 movies.\n",
    "\n",
    "You can download the raw data file we gathered on our GitHub repository here: https://github.com/greenore/deep-learning-project/blob/master/milestone2/tmdb_movie_info_100k.txt"
   ]
  },
  {
   "cell_type": "code",
   "execution_count": 26,
   "metadata": {},
   "outputs": [
    {
     "data": {
      "text/html": [
       "<div>\n",
       "<table border=\"1\" class=\"dataframe\">\n",
       "  <thead>\n",
       "    <tr style=\"text-align: right;\">\n",
       "      <th></th>\n",
       "      <th>tmdb_id</th>\n",
       "      <th>imdb_id</th>\n",
       "      <th>title</th>\n",
       "      <th>plot</th>\n",
       "      <th>poster_path</th>\n",
       "      <th>release_date</th>\n",
       "      <th>budget</th>\n",
       "      <th>revenue</th>\n",
       "      <th>runtime</th>\n",
       "      <th>popularity</th>\n",
       "      <th>user_rating</th>\n",
       "      <th>production_company</th>\n",
       "      <th>genres</th>\n",
       "    </tr>\n",
       "  </thead>\n",
       "  <tbody>\n",
       "    <tr>\n",
       "      <th>0</th>\n",
       "      <td>2</td>\n",
       "      <td>0094675</td>\n",
       "      <td>Ariel</td>\n",
       "      <td>Taisto Kasurinen is a Finnish coal miner whose...</td>\n",
       "      <td>/gZCJZOn4l0Zj5hAxsMbxoS6CL0u.jpg</td>\n",
       "      <td>1988-10-21</td>\n",
       "      <td>0.0</td>\n",
       "      <td>0.0</td>\n",
       "      <td>69</td>\n",
       "      <td>0.623849</td>\n",
       "      <td>6.8</td>\n",
       "      <td>Villealfa Filmproduction Oy,Finnish Film Found...</td>\n",
       "      <td>Drama,Crime</td>\n",
       "    </tr>\n",
       "    <tr>\n",
       "      <th>1</th>\n",
       "      <td>3</td>\n",
       "      <td>0092149</td>\n",
       "      <td>Shadows in Paradise</td>\n",
       "      <td>An episode in the life of Nikander, a garbage ...</td>\n",
       "      <td>/7ad4iku8cYBuB08g9yAU7tHJik5.jpg</td>\n",
       "      <td>1986-10-16</td>\n",
       "      <td>0.0</td>\n",
       "      <td>0.0</td>\n",
       "      <td>76</td>\n",
       "      <td>0.288572</td>\n",
       "      <td>6.8</td>\n",
       "      <td>Villealfa Filmproduction Oy</td>\n",
       "      <td>Drama,Comedy</td>\n",
       "    </tr>\n",
       "    <tr>\n",
       "      <th>2</th>\n",
       "      <td>5</td>\n",
       "      <td>0113101</td>\n",
       "      <td>Four Rooms</td>\n",
       "      <td>It's Ted the Bellhop's first night on the job....</td>\n",
       "      <td>/eQs5hh9rxrk1m4xHsIz1w11Ngqb.jpg</td>\n",
       "      <td>1995-12-25</td>\n",
       "      <td>4000000.0</td>\n",
       "      <td>4300000.0</td>\n",
       "      <td>98</td>\n",
       "      <td>1.768986</td>\n",
       "      <td>6.4</td>\n",
       "      <td>Miramax Films,A Band Apart</td>\n",
       "      <td>Crime,Comedy</td>\n",
       "    </tr>\n",
       "    <tr>\n",
       "      <th>3</th>\n",
       "      <td>6</td>\n",
       "      <td>0107286</td>\n",
       "      <td>Judgment Night</td>\n",
       "      <td>While racing to a boxing match, Frank, Mike, J...</td>\n",
       "      <td>/lNXmgUrP6h1nD53gkFh4WDzT6RZ.jpg</td>\n",
       "      <td>1993-10-15</td>\n",
       "      <td>0.0</td>\n",
       "      <td>12136938.0</td>\n",
       "      <td>110</td>\n",
       "      <td>0.676269</td>\n",
       "      <td>6.6</td>\n",
       "      <td>Largo Entertainment,JVC Entertainment Networks</td>\n",
       "      <td>Action,Thriller,Crime</td>\n",
       "    </tr>\n",
       "    <tr>\n",
       "      <th>4</th>\n",
       "      <td>8</td>\n",
       "      <td>0825671</td>\n",
       "      <td>Life in Loops (A Megacities RMX)</td>\n",
       "      <td>Timo Novotny labels his new project an experim...</td>\n",
       "      <td>/8YyIjOAxwzD3fZMdmJrfiApod4l.jpg</td>\n",
       "      <td>2006-01-01</td>\n",
       "      <td>42000.0</td>\n",
       "      <td>0.0</td>\n",
       "      <td>80</td>\n",
       "      <td>0.125477</td>\n",
       "      <td>5.2</td>\n",
       "      <td>inLoops</td>\n",
       "      <td>Documentary</td>\n",
       "    </tr>\n",
       "  </tbody>\n",
       "</table>\n",
       "</div>"
      ],
      "text/plain": [
       "  tmdb_id  imdb_id                             title  \\\n",
       "0       2  0094675                             Ariel   \n",
       "1       3  0092149               Shadows in Paradise   \n",
       "2       5  0113101                        Four Rooms   \n",
       "3       6  0107286                    Judgment Night   \n",
       "4       8  0825671  Life in Loops (A Megacities RMX)   \n",
       "\n",
       "                                                plot  \\\n",
       "0  Taisto Kasurinen is a Finnish coal miner whose...   \n",
       "1  An episode in the life of Nikander, a garbage ...   \n",
       "2  It's Ted the Bellhop's first night on the job....   \n",
       "3  While racing to a boxing match, Frank, Mike, J...   \n",
       "4  Timo Novotny labels his new project an experim...   \n",
       "\n",
       "                        poster_path release_date     budget     revenue  \\\n",
       "0  /gZCJZOn4l0Zj5hAxsMbxoS6CL0u.jpg   1988-10-21        0.0         0.0   \n",
       "1  /7ad4iku8cYBuB08g9yAU7tHJik5.jpg   1986-10-16        0.0         0.0   \n",
       "2  /eQs5hh9rxrk1m4xHsIz1w11Ngqb.jpg   1995-12-25  4000000.0   4300000.0   \n",
       "3  /lNXmgUrP6h1nD53gkFh4WDzT6RZ.jpg   1993-10-15        0.0  12136938.0   \n",
       "4  /8YyIjOAxwzD3fZMdmJrfiApod4l.jpg   2006-01-01    42000.0         0.0   \n",
       "\n",
       "  runtime popularity  user_rating  \\\n",
       "0      69   0.623849          6.8   \n",
       "1      76   0.288572          6.8   \n",
       "2      98   1.768986          6.4   \n",
       "3     110   0.676269          6.6   \n",
       "4      80   0.125477          5.2   \n",
       "\n",
       "                                  production_company                 genres  \n",
       "0  Villealfa Filmproduction Oy,Finnish Film Found...            Drama,Crime  \n",
       "1                        Villealfa Filmproduction Oy           Drama,Comedy  \n",
       "2                         Miramax Films,A Band Apart           Crime,Comedy  \n",
       "3     Largo Entertainment,JVC Entertainment Networks  Action,Thriller,Crime  \n",
       "4                                            inLoops            Documentary  "
      ]
     },
     "execution_count": 26,
     "metadata": {},
     "output_type": "execute_result"
    }
   ],
   "source": [
    "# view example\n",
    "raw = pd.read_table('tmdb_movie_info_100k.txt')\n",
    "raw.head()"
   ]
  },
  {
   "cell_type": "markdown",
   "metadata": {},
   "source": [
    "### Scraping from IMDb"
   ]
  },
  {
   "cell_type": "markdown",
   "metadata": {},
   "source": [
    "We also extracted additional metadata from IMDb for this list of 70,000 movies and matched them to the TMDb records based on `imdb_id`."
   ]
  },
  {
   "cell_type": "code",
   "execution_count": 3,
   "metadata": {},
   "outputs": [
    {
     "data": {
      "text/html": [
       "<div>\n",
       "<table border=\"1\" class=\"dataframe\">\n",
       "  <thead>\n",
       "    <tr style=\"text-align: right;\">\n",
       "      <th></th>\n",
       "      <th>tmdb_id</th>\n",
       "      <th>imdb_id</th>\n",
       "    </tr>\n",
       "  </thead>\n",
       "  <tbody>\n",
       "    <tr>\n",
       "      <th>0</th>\n",
       "      <td>2</td>\n",
       "      <td>0094675</td>\n",
       "    </tr>\n",
       "    <tr>\n",
       "      <th>1</th>\n",
       "      <td>3</td>\n",
       "      <td>0092149</td>\n",
       "    </tr>\n",
       "    <tr>\n",
       "      <th>2</th>\n",
       "      <td>5</td>\n",
       "      <td>0113101</td>\n",
       "    </tr>\n",
       "    <tr>\n",
       "      <th>3</th>\n",
       "      <td>6</td>\n",
       "      <td>0107286</td>\n",
       "    </tr>\n",
       "    <tr>\n",
       "      <th>4</th>\n",
       "      <td>8</td>\n",
       "      <td>0825671</td>\n",
       "    </tr>\n",
       "  </tbody>\n",
       "</table>\n",
       "</div>"
      ],
      "text/plain": [
       "  tmdb_id  imdb_id\n",
       "0       2  0094675\n",
       "1       3  0092149\n",
       "2       5  0113101\n",
       "3       6  0107286\n",
       "4       8  0825671"
      ]
     },
     "execution_count": 3,
     "metadata": {},
     "output_type": "execute_result"
    }
   ],
   "source": [
    "imdb_df = pd.read_table('imdb_id_100k.txt', sep='\\t')\n",
    "imdb_df.head()"
   ]
  },
  {
   "cell_type": "code",
   "execution_count": 4,
   "metadata": {},
   "outputs": [
    {
     "data": {
      "text/plain": [
       "(69970, 2)"
      ]
     },
     "execution_count": 4,
     "metadata": {},
     "output_type": "execute_result"
    }
   ],
   "source": [
    "imdb_df.shape"
   ]
  },
  {
   "cell_type": "code",
   "execution_count": null,
   "metadata": {
    "collapsed": true
   },
   "outputs": [],
   "source": [
    "movie = IMDb()\n",
    "target = io.open(\"imdb_movie_info_100k.txt\", 'w',encoding=\"utf8\")\n",
    "line=u\"tmdb_id\\timdb_id\\tcast\\tdirector\\twriter\\tUSA_rating\"\n",
    "target.write(line+'\\n')\n",
    "\n",
    "for i in range(1,imdb_df.shape[0]):\n",
    "    tmdb_id=imdb_df.iloc[i,0]\n",
    "    imdb_id=imdb_df.iloc[i,1]\n",
    "    data=movie.get_movie(imdb_id)\n",
    "    line=u\"\"\n",
    "    line=line+str(tmdb_id).decode('utf8') #tmdb_id\n",
    "    line=line+u\"\\t\"+str(imdb_id).decode('utf8')#imdb_id\n",
    "\n",
    "    ## get cast\n",
    "    cast_string=u\"\"\n",
    "    try:\n",
    "        cast_num=min(len(data['cast']),5)\n",
    "        for c in range(cast_num):\n",
    "            if c==0:\n",
    "                cast_string=str(data['cast'][c].personID).decode('utf8')\n",
    "            else:\n",
    "                cast_string=cast_string+\",\"+str(data['cast'][c].personID).decode('utf8')\n",
    "    except KeyError:\n",
    "         cast_string=u\"\"\n",
    "    line=line+u\"\\t\"+cast_string\n",
    "\n",
    "    #get director\n",
    "    director_string=u\"\"\n",
    "    try:\n",
    "        director_num=min(len(data['director']),2)\n",
    "        for c in range(director_num):\n",
    "            if c==0:\n",
    "                director_string=str(data['director'][c].personID).decode('utf8')\n",
    "            else:\n",
    "                director_string=director_string+\",\"+str(data['director'][c].personID).decode('utf8')\n",
    "    except KeyError:\n",
    "        director_string=u\"\"\n",
    "    line=line+u\"\\t\"+director_string\n",
    "\n",
    "    # get writer\n",
    "    writer_string=u\"\"\n",
    "    try:\n",
    "        writer_num=min(len(data['writer']),2)\n",
    "        for c in range(writer_num):\n",
    "            if c==0:\n",
    "                writer_string=str(data['writer'][c].personID).decode('utf8')\n",
    "            else:\n",
    "                writer_string=writer_string+\",\"+str(data['writer'][c].personID).decode('utf8')\n",
    "    except KeyError:\n",
    "        writer_string=u\"\"\n",
    "    line=line+u\"\\t\"+writer_string\n",
    "\n",
    "    ## get US certificate\n",
    "    try:\n",
    "        matching = [s for s in data['certificates'] if \"USA\" in s]\n",
    "        if matching!=[]:\n",
    "            usa_rating=matching[0].split(\":\")[1]\n",
    "        else:\n",
    "            usa_rating=u\"\"\n",
    "    except KeyError:\n",
    "        usa_rating=u\"\"\n",
    "    line=line+u\"\\t\"+usa_rating\n",
    "    target.write(line+'\\n')\n",
    "    target.flush()\n",
    "    print i\n",
    "        \n",
    "        \n",
    "target.close()"
   ]
  },
  {
   "cell_type": "markdown",
   "metadata": {},
   "source": [
    "Using the code above, we were able to gather additional metadata (cast, director, writer, picture rating) from IMDb. Information on cast, directors and writers are in the format of personID (7-digit numbers) used by IMDb.\n",
    "\n",
    "You can download the raw data file we gathered on our GitHub repository here: https://github.com/greenore/deep-learning-project/blob/master/milestone2/imdb_movie_info_100k.txt"
   ]
  },
  {
   "cell_type": "code",
   "execution_count": 14,
   "metadata": {},
   "outputs": [
    {
     "data": {
      "text/html": [
       "<div>\n",
       "<table border=\"1\" class=\"dataframe\">\n",
       "  <thead>\n",
       "    <tr style=\"text-align: right;\">\n",
       "      <th></th>\n",
       "      <th>tmdb_id</th>\n",
       "      <th>imdb_id</th>\n",
       "      <th>cast</th>\n",
       "      <th>director</th>\n",
       "      <th>writer</th>\n",
       "      <th>USA_rating</th>\n",
       "    </tr>\n",
       "  </thead>\n",
       "  <tbody>\n",
       "    <tr>\n",
       "      <th>0</th>\n",
       "      <td>2</td>\n",
       "      <td>94675</td>\n",
       "      <td>0656999,0352099,0671231,0383990,0656998</td>\n",
       "      <td>0442454</td>\n",
       "      <td>0442454</td>\n",
       "      <td>Not Rated</td>\n",
       "    </tr>\n",
       "    <tr>\n",
       "      <th>1</th>\n",
       "      <td>3</td>\n",
       "      <td>92149</td>\n",
       "      <td>0671231,0653669,0475411,0631741,0477871</td>\n",
       "      <td>0442454</td>\n",
       "      <td>0442454</td>\n",
       "      <td>NaN</td>\n",
       "    </tr>\n",
       "    <tr>\n",
       "      <th>2</th>\n",
       "      <td>5</td>\n",
       "      <td>113101</td>\n",
       "      <td>0205423,0004866,0000420,0000187,0001746</td>\n",
       "      <td>0025978,0734319</td>\n",
       "      <td>0025978,0734319</td>\n",
       "      <td>R</td>\n",
       "    </tr>\n",
       "    <tr>\n",
       "      <th>3</th>\n",
       "      <td>6</td>\n",
       "      <td>107286</td>\n",
       "      <td>0000389,0000421,0001459,0001151,0005315</td>\n",
       "      <td>0394280</td>\n",
       "      <td>0171474,0192342</td>\n",
       "      <td>R</td>\n",
       "    </tr>\n",
       "    <tr>\n",
       "      <th>4</th>\n",
       "      <td>8</td>\n",
       "      <td>825671</td>\n",
       "      <td>NaN</td>\n",
       "      <td>1119183</td>\n",
       "      <td>0322198,1119183</td>\n",
       "      <td>NaN</td>\n",
       "    </tr>\n",
       "  </tbody>\n",
       "</table>\n",
       "</div>"
      ],
      "text/plain": [
       "   tmdb_id  imdb_id                                     cast         director  \\\n",
       "0        2    94675  0656999,0352099,0671231,0383990,0656998          0442454   \n",
       "1        3    92149  0671231,0653669,0475411,0631741,0477871          0442454   \n",
       "2        5   113101  0205423,0004866,0000420,0000187,0001746  0025978,0734319   \n",
       "3        6   107286  0000389,0000421,0001459,0001151,0005315          0394280   \n",
       "4        8   825671                                      NaN          1119183   \n",
       "\n",
       "            writer USA_rating  \n",
       "0          0442454  Not Rated  \n",
       "1          0442454        NaN  \n",
       "2  0025978,0734319          R  \n",
       "3  0171474,0192342          R  \n",
       "4  0322198,1119183        NaN  "
      ]
     },
     "execution_count": 14,
     "metadata": {},
     "output_type": "execute_result"
    }
   ],
   "source": [
    "# view example\n",
    "imdb = pd.read_table('imdb_movie_info_100k.txt')\n",
    "imdb.head()"
   ]
  },
  {
   "cell_type": "markdown",
   "metadata": {},
   "source": [
    "---"
   ]
  },
  {
   "cell_type": "markdown",
   "metadata": {},
   "source": [
    "## Outcome Variables (Y)"
   ]
  },
  {
   "cell_type": "markdown",
   "metadata": {},
   "source": [
    "The outcome variable is the movie genre, which is classified into 19 categories by TMDb (namely Adventure, Fantasy, Animation, Drama, Horror, Action, Comedy, History, Western, Thriller, Crime, Documentary, Science Fiction, Mystery, Music, Romance, Family, War and Foreign). We decided against regrouping the genres because even if we had chosen to do so, we would have only collapsed a few groups (eg. Action-Adventure, Thriller-Crime-Mystery) based on our genre pair analysis in earlier EDA (see Milestone 1). We did not feel that this small reduction in genre categories would make a significant difference in the larger picture. To simplify the problem, we also did not use the genre classifications on IMDb.\n",
    "\n",
    "In addition, each movie may fall into multiple genres, ie. this is a multi-label problem. To address this issue, we coded the outcome into 19 columns of binary (1/0) flags, one for each of the 19 TMDb genres."
   ]
  },
  {
   "cell_type": "code",
   "execution_count": 29,
   "metadata": {},
   "outputs": [
    {
     "data": {
      "text/html": [
       "<div>\n",
       "<table border=\"1\" class=\"dataframe\">\n",
       "  <thead>\n",
       "    <tr style=\"text-align: right;\">\n",
       "      <th></th>\n",
       "      <th>tmdb_id</th>\n",
       "      <th>Adventure</th>\n",
       "      <th>Fantasy</th>\n",
       "      <th>Animation</th>\n",
       "      <th>Drama</th>\n",
       "      <th>Horror</th>\n",
       "      <th>Action</th>\n",
       "      <th>Comedy</th>\n",
       "      <th>History</th>\n",
       "      <th>Western</th>\n",
       "      <th>Thriller</th>\n",
       "      <th>Crime</th>\n",
       "      <th>Documentary</th>\n",
       "      <th>Science Fiction</th>\n",
       "      <th>Mystery</th>\n",
       "      <th>Music</th>\n",
       "      <th>Romance</th>\n",
       "      <th>Family</th>\n",
       "      <th>War</th>\n",
       "      <th>Foreign</th>\n",
       "    </tr>\n",
       "  </thead>\n",
       "  <tbody>\n",
       "    <tr>\n",
       "      <th>0</th>\n",
       "      <td>7621</td>\n",
       "      <td>0</td>\n",
       "      <td>0</td>\n",
       "      <td>0</td>\n",
       "      <td>1</td>\n",
       "      <td>0</td>\n",
       "      <td>0</td>\n",
       "      <td>0</td>\n",
       "      <td>0</td>\n",
       "      <td>0</td>\n",
       "      <td>0</td>\n",
       "      <td>1</td>\n",
       "      <td>0</td>\n",
       "      <td>0</td>\n",
       "      <td>0</td>\n",
       "      <td>0</td>\n",
       "      <td>0</td>\n",
       "      <td>0</td>\n",
       "      <td>0</td>\n",
       "      <td>0</td>\n",
       "    </tr>\n",
       "    <tr>\n",
       "      <th>1</th>\n",
       "      <td>14734</td>\n",
       "      <td>0</td>\n",
       "      <td>0</td>\n",
       "      <td>0</td>\n",
       "      <td>1</td>\n",
       "      <td>0</td>\n",
       "      <td>0</td>\n",
       "      <td>1</td>\n",
       "      <td>0</td>\n",
       "      <td>0</td>\n",
       "      <td>0</td>\n",
       "      <td>0</td>\n",
       "      <td>0</td>\n",
       "      <td>0</td>\n",
       "      <td>0</td>\n",
       "      <td>0</td>\n",
       "      <td>0</td>\n",
       "      <td>0</td>\n",
       "      <td>0</td>\n",
       "      <td>0</td>\n",
       "    </tr>\n",
       "    <tr>\n",
       "      <th>2</th>\n",
       "      <td>20401</td>\n",
       "      <td>0</td>\n",
       "      <td>0</td>\n",
       "      <td>0</td>\n",
       "      <td>0</td>\n",
       "      <td>0</td>\n",
       "      <td>0</td>\n",
       "      <td>1</td>\n",
       "      <td>0</td>\n",
       "      <td>0</td>\n",
       "      <td>0</td>\n",
       "      <td>1</td>\n",
       "      <td>0</td>\n",
       "      <td>0</td>\n",
       "      <td>0</td>\n",
       "      <td>0</td>\n",
       "      <td>0</td>\n",
       "      <td>0</td>\n",
       "      <td>0</td>\n",
       "      <td>0</td>\n",
       "    </tr>\n",
       "    <tr>\n",
       "      <th>3</th>\n",
       "      <td>20979</td>\n",
       "      <td>0</td>\n",
       "      <td>0</td>\n",
       "      <td>0</td>\n",
       "      <td>0</td>\n",
       "      <td>0</td>\n",
       "      <td>1</td>\n",
       "      <td>0</td>\n",
       "      <td>0</td>\n",
       "      <td>0</td>\n",
       "      <td>1</td>\n",
       "      <td>1</td>\n",
       "      <td>0</td>\n",
       "      <td>0</td>\n",
       "      <td>0</td>\n",
       "      <td>0</td>\n",
       "      <td>0</td>\n",
       "      <td>0</td>\n",
       "      <td>0</td>\n",
       "      <td>0</td>\n",
       "    </tr>\n",
       "    <tr>\n",
       "      <th>4</th>\n",
       "      <td>21726</td>\n",
       "      <td>0</td>\n",
       "      <td>0</td>\n",
       "      <td>0</td>\n",
       "      <td>0</td>\n",
       "      <td>0</td>\n",
       "      <td>0</td>\n",
       "      <td>0</td>\n",
       "      <td>0</td>\n",
       "      <td>0</td>\n",
       "      <td>0</td>\n",
       "      <td>0</td>\n",
       "      <td>1</td>\n",
       "      <td>0</td>\n",
       "      <td>0</td>\n",
       "      <td>0</td>\n",
       "      <td>0</td>\n",
       "      <td>0</td>\n",
       "      <td>0</td>\n",
       "      <td>0</td>\n",
       "    </tr>\n",
       "  </tbody>\n",
       "</table>\n",
       "</div>"
      ],
      "text/plain": [
       "   tmdb_id  Adventure  Fantasy  Animation  Drama  Horror  Action  Comedy  \\\n",
       "0     7621          0        0          0      1       0       0       0   \n",
       "1    14734          0        0          0      1       0       0       1   \n",
       "2    20401          0        0          0      0       0       0       1   \n",
       "3    20979          0        0          0      0       0       1       0   \n",
       "4    21726          0        0          0      0       0       0       0   \n",
       "\n",
       "   History  Western  Thriller  Crime  Documentary  Science Fiction  Mystery  \\\n",
       "0        0        0         0      1            0                0        0   \n",
       "1        0        0         0      0            0                0        0   \n",
       "2        0        0         0      1            0                0        0   \n",
       "3        0        0         1      1            0                0        0   \n",
       "4        0        0         0      0            1                0        0   \n",
       "\n",
       "   Music  Romance  Family  War  Foreign  \n",
       "0      0        0       0    0        0  \n",
       "1      0        0       0    0        0  \n",
       "2      0        0       0    0        0  \n",
       "3      0        0       0    0        0  \n",
       "4      0        0       0    0        0  "
      ]
     },
     "execution_count": 29,
     "metadata": {},
     "output_type": "execute_result"
    }
   ],
   "source": [
    "# load pre-processed file\n",
    "genres = pd.read_csv('genres_70k_new.txt')\n",
    "\n",
    "# drop TVMovie as 0 observations\n",
    "genres = genres.drop('TVMovie', 1)\n",
    "\n",
    "# show example\n",
    "genres.head()"
   ]
  },
  {
   "cell_type": "markdown",
   "metadata": {},
   "source": [
    "In addition to the 19 outcome variables (one for each genre), we created 1 more outcome variable -- the **number of genre tags**. As we will be training separate classification models for each genre, we would like another model that can predict the number of genres to be assigned to each movie. Using this predicted number, we can then assign tags to each test movie with predicted probabilities of every genre. Here, we generate this 20th outcome variable."
   ]
  },
  {
   "cell_type": "code",
   "execution_count": 30,
   "metadata": {},
   "outputs": [
    {
     "data": {
      "text/html": [
       "<div>\n",
       "<table border=\"1\" class=\"dataframe\">\n",
       "  <thead>\n",
       "    <tr style=\"text-align: right;\">\n",
       "      <th></th>\n",
       "      <th>tmdb_id</th>\n",
       "      <th>Adventure</th>\n",
       "      <th>Fantasy</th>\n",
       "      <th>Animation</th>\n",
       "      <th>Drama</th>\n",
       "      <th>Horror</th>\n",
       "      <th>Action</th>\n",
       "      <th>Comedy</th>\n",
       "      <th>History</th>\n",
       "      <th>Western</th>\n",
       "      <th>...</th>\n",
       "      <th>Crime</th>\n",
       "      <th>Documentary</th>\n",
       "      <th>Science Fiction</th>\n",
       "      <th>Mystery</th>\n",
       "      <th>Music</th>\n",
       "      <th>Romance</th>\n",
       "      <th>Family</th>\n",
       "      <th>War</th>\n",
       "      <th>Foreign</th>\n",
       "      <th>num_genres</th>\n",
       "    </tr>\n",
       "  </thead>\n",
       "  <tbody>\n",
       "    <tr>\n",
       "      <th>0</th>\n",
       "      <td>7621</td>\n",
       "      <td>0</td>\n",
       "      <td>0</td>\n",
       "      <td>0</td>\n",
       "      <td>1</td>\n",
       "      <td>0</td>\n",
       "      <td>0</td>\n",
       "      <td>0</td>\n",
       "      <td>0</td>\n",
       "      <td>0</td>\n",
       "      <td>...</td>\n",
       "      <td>1</td>\n",
       "      <td>0</td>\n",
       "      <td>0</td>\n",
       "      <td>0</td>\n",
       "      <td>0</td>\n",
       "      <td>0</td>\n",
       "      <td>0</td>\n",
       "      <td>0</td>\n",
       "      <td>0</td>\n",
       "      <td>2</td>\n",
       "    </tr>\n",
       "    <tr>\n",
       "      <th>1</th>\n",
       "      <td>14734</td>\n",
       "      <td>0</td>\n",
       "      <td>0</td>\n",
       "      <td>0</td>\n",
       "      <td>1</td>\n",
       "      <td>0</td>\n",
       "      <td>0</td>\n",
       "      <td>1</td>\n",
       "      <td>0</td>\n",
       "      <td>0</td>\n",
       "      <td>...</td>\n",
       "      <td>0</td>\n",
       "      <td>0</td>\n",
       "      <td>0</td>\n",
       "      <td>0</td>\n",
       "      <td>0</td>\n",
       "      <td>0</td>\n",
       "      <td>0</td>\n",
       "      <td>0</td>\n",
       "      <td>0</td>\n",
       "      <td>2</td>\n",
       "    </tr>\n",
       "    <tr>\n",
       "      <th>2</th>\n",
       "      <td>20401</td>\n",
       "      <td>0</td>\n",
       "      <td>0</td>\n",
       "      <td>0</td>\n",
       "      <td>0</td>\n",
       "      <td>0</td>\n",
       "      <td>0</td>\n",
       "      <td>1</td>\n",
       "      <td>0</td>\n",
       "      <td>0</td>\n",
       "      <td>...</td>\n",
       "      <td>1</td>\n",
       "      <td>0</td>\n",
       "      <td>0</td>\n",
       "      <td>0</td>\n",
       "      <td>0</td>\n",
       "      <td>0</td>\n",
       "      <td>0</td>\n",
       "      <td>0</td>\n",
       "      <td>0</td>\n",
       "      <td>2</td>\n",
       "    </tr>\n",
       "    <tr>\n",
       "      <th>3</th>\n",
       "      <td>20979</td>\n",
       "      <td>0</td>\n",
       "      <td>0</td>\n",
       "      <td>0</td>\n",
       "      <td>0</td>\n",
       "      <td>0</td>\n",
       "      <td>1</td>\n",
       "      <td>0</td>\n",
       "      <td>0</td>\n",
       "      <td>0</td>\n",
       "      <td>...</td>\n",
       "      <td>1</td>\n",
       "      <td>0</td>\n",
       "      <td>0</td>\n",
       "      <td>0</td>\n",
       "      <td>0</td>\n",
       "      <td>0</td>\n",
       "      <td>0</td>\n",
       "      <td>0</td>\n",
       "      <td>0</td>\n",
       "      <td>3</td>\n",
       "    </tr>\n",
       "    <tr>\n",
       "      <th>4</th>\n",
       "      <td>21726</td>\n",
       "      <td>0</td>\n",
       "      <td>0</td>\n",
       "      <td>0</td>\n",
       "      <td>0</td>\n",
       "      <td>0</td>\n",
       "      <td>0</td>\n",
       "      <td>0</td>\n",
       "      <td>0</td>\n",
       "      <td>0</td>\n",
       "      <td>...</td>\n",
       "      <td>0</td>\n",
       "      <td>1</td>\n",
       "      <td>0</td>\n",
       "      <td>0</td>\n",
       "      <td>0</td>\n",
       "      <td>0</td>\n",
       "      <td>0</td>\n",
       "      <td>0</td>\n",
       "      <td>0</td>\n",
       "      <td>1</td>\n",
       "    </tr>\n",
       "  </tbody>\n",
       "</table>\n",
       "<p>5 rows × 21 columns</p>\n",
       "</div>"
      ],
      "text/plain": [
       "   tmdb_id  Adventure  Fantasy  Animation  Drama  Horror  Action  Comedy  \\\n",
       "0     7621          0        0          0      1       0       0       0   \n",
       "1    14734          0        0          0      1       0       0       1   \n",
       "2    20401          0        0          0      0       0       0       1   \n",
       "3    20979          0        0          0      0       0       1       0   \n",
       "4    21726          0        0          0      0       0       0       0   \n",
       "\n",
       "   History  Western     ...      Crime  Documentary  Science Fiction  Mystery  \\\n",
       "0        0        0     ...          1            0                0        0   \n",
       "1        0        0     ...          0            0                0        0   \n",
       "2        0        0     ...          1            0                0        0   \n",
       "3        0        0     ...          1            0                0        0   \n",
       "4        0        0     ...          0            1                0        0   \n",
       "\n",
       "   Music  Romance  Family  War  Foreign  num_genres  \n",
       "0      0        0       0    0        0           2  \n",
       "1      0        0       0    0        0           2  \n",
       "2      0        0       0    0        0           2  \n",
       "3      0        0       0    0        0           3  \n",
       "4      0        0       0    0        0           1  \n",
       "\n",
       "[5 rows x 21 columns]"
      ]
     },
     "execution_count": 30,
     "metadata": {},
     "output_type": "execute_result"
    }
   ],
   "source": [
    "# generate new Y variable -- number of genres\n",
    "genres['num_genres'] = genres.ix[:, 1:19].sum(axis=1)\n",
    "genres.head()"
   ]
  },
  {
   "cell_type": "code",
   "execution_count": 31,
   "metadata": {},
   "outputs": [
    {
     "data": {
      "text/plain": [
       "(69970, 21)"
      ]
     },
     "execution_count": 31,
     "metadata": {},
     "output_type": "execute_result"
    }
   ],
   "source": [
    "genres.shape"
   ]
  },
  {
   "cell_type": "code",
   "execution_count": 32,
   "metadata": {
    "collapsed": true
   },
   "outputs": [],
   "source": [
    "genres.to_csv('outcome_vars.csv')"
   ]
  },
  {
   "cell_type": "markdown",
   "metadata": {},
   "source": [
    "---"
   ]
  },
  {
   "cell_type": "markdown",
   "metadata": {},
   "source": [
    "## Predictor Variables (X)"
   ]
  },
  {
   "cell_type": "markdown",
   "metadata": {},
   "source": [
    "We have two sets of data, one with movie posters as features, and the other with movie metadata. For the former, we downloaded w500 resolution movie posters from TMDb (see below). For the latter, we have chosen to include the following features:\n",
    "\n",
    "*Extracted from TMDb*\n",
    "- Title\n",
    "- Plot summary\n",
    "- Production company\n",
    "- Release date\n",
    "- Runtime (mins)\n",
    "- Budget (USD)\n",
    "- Revenue (USD)\n",
    "- Popularity\n",
    "- Average user rating (on scale of 1-10)\n",
    "\n",
    "*Extracted from IMDb*\n",
    "- Director (first 2 names listed)\n",
    "- Writer (first 2 names listed)\n",
    "- Cast (first 5 names listed)\n",
    "- Picture rating (US MPAA categories eg. PG-13, R-21)\n",
    "\n",
    "These features were chosen based on our prior beliefs about what are potential predictors of movie genre (see Milestone 1)."
   ]
  },
  {
   "cell_type": "markdown",
   "metadata": {},
   "source": [
    "### Downloading Posters from TMDb"
   ]
  },
  {
   "cell_type": "markdown",
   "metadata": {},
   "source": [
    "Using the code below, we downloaded w500 resolution movie posters in `.jpg` format from TMDb. Since the total file size is >1GB, we have not added them to GitHub repository. We have included a few posters as examples below."
   ]
  },
  {
   "cell_type": "code",
   "execution_count": 17,
   "metadata": {},
   "outputs": [
    {
     "data": {
      "text/html": [
       "<div>\n",
       "<table border=\"1\" class=\"dataframe\">\n",
       "  <thead>\n",
       "    <tr style=\"text-align: right;\">\n",
       "      <th></th>\n",
       "      <th>tmdb_id</th>\n",
       "      <th>poster_path</th>\n",
       "    </tr>\n",
       "  </thead>\n",
       "  <tbody>\n",
       "    <tr>\n",
       "      <th>0</th>\n",
       "      <td>2</td>\n",
       "      <td>/gZCJZOn4l0Zj5hAxsMbxoS6CL0u.jpg</td>\n",
       "    </tr>\n",
       "    <tr>\n",
       "      <th>1</th>\n",
       "      <td>3</td>\n",
       "      <td>/7ad4iku8cYBuB08g9yAU7tHJik5.jpg</td>\n",
       "    </tr>\n",
       "    <tr>\n",
       "      <th>2</th>\n",
       "      <td>5</td>\n",
       "      <td>/eQs5hh9rxrk1m4xHsIz1w11Ngqb.jpg</td>\n",
       "    </tr>\n",
       "    <tr>\n",
       "      <th>3</th>\n",
       "      <td>6</td>\n",
       "      <td>/lNXmgUrP6h1nD53gkFh4WDzT6RZ.jpg</td>\n",
       "    </tr>\n",
       "    <tr>\n",
       "      <th>4</th>\n",
       "      <td>8</td>\n",
       "      <td>/8YyIjOAxwzD3fZMdmJrfiApod4l.jpg</td>\n",
       "    </tr>\n",
       "  </tbody>\n",
       "</table>\n",
       "</div>"
      ],
      "text/plain": [
       "   tmdb_id                       poster_path\n",
       "0        2  /gZCJZOn4l0Zj5hAxsMbxoS6CL0u.jpg\n",
       "1        3  /7ad4iku8cYBuB08g9yAU7tHJik5.jpg\n",
       "2        5  /eQs5hh9rxrk1m4xHsIz1w11Ngqb.jpg\n",
       "3        6  /lNXmgUrP6h1nD53gkFh4WDzT6RZ.jpg\n",
       "4        8  /8YyIjOAxwzD3fZMdmJrfiApod4l.jpg"
      ]
     },
     "execution_count": 17,
     "metadata": {},
     "output_type": "execute_result"
    }
   ],
   "source": [
    "poster_df = pd.read_table('poster_path_100k.txt', sep='\\t')\n",
    "poster_df.head()"
   ]
  },
  {
   "cell_type": "code",
   "execution_count": null,
   "metadata": {
    "collapsed": true
   },
   "outputs": [],
   "source": [
    "base=\"https://image.tmdb.org/t/p/w500\"\n",
    "filebase=\"G:/data/clean_data/poster/\"\n",
    "count=0\n",
    "for i in range(64208,poster_df.shape[0]):\n",
    "    poster_path=poster_df.iloc[i,1]\n",
    "    filename=str(poster_df.iloc[i,0])+\".jpg\"\n",
    "    urlretrieve(base+poster_path, filebase+filename)\n",
    "    count+=1\n",
    "    if count%100==0:\n",
    "        print count"
   ]
  },
  {
   "cell_type": "markdown",
   "metadata": {},
   "source": [
    "| Poster Examples |\n",
    "|---|---|---|---|---|---|---|\n",
    "| <img src=\"26.jpg\" width=\"150\"> | <img src=\"33.jpg\" width=\"150\"> | <img src=\"35.jpg\" width=\"150\"> | <img src=\"38.jpg\" width=\"150\"> | <img src=\"58.jpg\" width=\"150\"> | <img src=\"59.jpg\" width=\"150\"> | <img src=\"62.jpg\" width=\"150\">"
   ]
  },
  {
   "cell_type": "markdown",
   "metadata": {},
   "source": [
    "---"
   ]
  },
  {
   "cell_type": "markdown",
   "metadata": {},
   "source": [
    "## Converting Posters to Features"
   ]
  },
  {
   "cell_type": "markdown",
   "metadata": {},
   "source": [
    "In this section, we convert the poster `.jpg` images to arrays of pixel features. All the posters had a width of 500 pixels. Most of them had a height of 750 pixels. To ensure a standard array size for each poster, we only considered the first 750 pixels (and ignored the rest) if the poster was taller than 750 pixels. If the poster was shorter than 750 pixels, we filled it with black pixels at the bottom until a height of 750 pixels.\n",
    "\n",
    "Each poster had 500 x 750 = 375,000 pixels, and for each pixel, we extracted 3 colour (RGB) values. Therefore, each poster had a total of 375,000 x 3 = 1,125,000 features at the end.\n",
    "\n",
    "To limit output file sizes, we processed the posters in batches of 500 posters (total 140 batches).\n",
    "\n",
    "Since the file size of each output matrix is very large, we did not add them to GitHub repository. We show an example of one matrix (first 500 posters) below."
   ]
  },
  {
   "cell_type": "code",
   "execution_count": null,
   "metadata": {
    "collapsed": true
   },
   "outputs": [],
   "source": [
    "from scipy import misc\n",
    "labels=['tmdb_id']\n",
    "color=['r','g','b']\n",
    "for c in color:\n",
    "    for i in range(500*750): ## resolution maxium is 500*750\n",
    "        label=c+str(i)\n",
    "        labels.append(label)"
   ]
  },
  {
   "cell_type": "code",
   "execution_count": null,
   "metadata": {
    "collapsed": true
   },
   "outputs": [],
   "source": [
    "target = open(\"G:/data/clean_data/poster_matrix.txt\", 'w')\n",
    "for label in labels:\n",
    "    if label!=labels[-1]:\n",
    "        target.write(label+\"\\t\")\n",
    "    else:\n",
    "        target.write(label+\"\\n\")\n",
    "target.flush()"
   ]
  },
  {
   "cell_type": "code",
   "execution_count": null,
   "metadata": {
    "collapsed": true
   },
   "outputs": [],
   "source": [
    "n_group=250 # 500 poster as a file\n",
    "total_groups=poster_df.shape[0]/n_group+1 ## total group number\n",
    "directory=\"G:/data/clean_data/poster/\"\n",
    "n_color=3\n",
    "width=500\n",
    "height=750\n",
    "for i in range(3,total_groups):\n",
    "    matrix=np.zeros((n_group,width*height*n_color+1),dtype=int)\n",
    "    for j in range(n_group):\n",
    "        tmdb_id=poster_df.iloc[i*500+j,0]\n",
    "        filename=directory+str(tmdb_id)+\".jpg\"\n",
    "        arr = misc.imread(filename)\n",
    "        matrix[j,0]=tmdb_id\n",
    "        ## check if oversize and set maximum height as 750\n",
    "        trans_height=min(height,arr.shape[0])\n",
    "        ## check if image is colorful\n",
    "        if len(arr.shape)==3:\n",
    "            for c in range(n_color):\n",
    "                for h in range(trans_height):\n",
    "                    ind_start=c*height*width+1+h*width\n",
    "                    ind_end=ind_start+width\n",
    "                    matrix[j,ind_start:ind_end]=arr[h,:,c]\n",
    "        else:\n",
    "            for c in range(n_color):\n",
    "                for h in range(trans_height):\n",
    "                    ind_start=c*height*width+1+h*width\n",
    "                    ind_end=ind_start+width\n",
    "                    matrix[j,ind_start:ind_end]=arr[h,:]\n",
    "    target_name=\"G:/data/clean_data/poster_matrix/poster_matrix_\"+str(i)+\".dat\"\n",
    "    matrix.tofile(target_name,sep=',')\n",
    "    print i"
   ]
  },
  {
   "cell_type": "code",
   "execution_count": 4,
   "metadata": {
    "collapsed": true
   },
   "outputs": [],
   "source": [
    "# view example matrix\n",
    "matrix = np.fromfile('C:/Users/Calvin/Desktop/Shared/milestone2b/poster_matrix_0.dat')"
   ]
  },
  {
   "cell_type": "code",
   "execution_count": 8,
   "metadata": {},
   "outputs": [
    {
     "data": {
      "text/plain": [
       "(228044696L,)"
      ]
     },
     "execution_count": 8,
     "metadata": {},
     "output_type": "execute_result"
    }
   ],
   "source": [
    "matrix.shape"
   ]
  },
  {
   "cell_type": "code",
   "execution_count": 9,
   "metadata": {
    "collapsed": true
   },
   "outputs": [],
   "source": [
    "matrix_df = pd.DataFrame(matrix)"
   ]
  },
  {
   "cell_type": "code",
   "execution_count": 10,
   "metadata": {},
   "outputs": [
    {
     "data": {
      "text/html": [
       "<div>\n",
       "<table border=\"1\" class=\"dataframe\">\n",
       "  <thead>\n",
       "    <tr style=\"text-align: right;\">\n",
       "      <th></th>\n",
       "      <th>0</th>\n",
       "    </tr>\n",
       "  </thead>\n",
       "  <tbody>\n",
       "    <tr>\n",
       "      <th>0</th>\n",
       "      <td>6.740630e-67</td>\n",
       "    </tr>\n",
       "    <tr>\n",
       "      <th>1</th>\n",
       "      <td>6.740596e-67</td>\n",
       "    </tr>\n",
       "    <tr>\n",
       "      <th>2</th>\n",
       "      <td>6.740630e-67</td>\n",
       "    </tr>\n",
       "    <tr>\n",
       "      <th>3</th>\n",
       "      <td>6.740596e-67</td>\n",
       "    </tr>\n",
       "    <tr>\n",
       "      <th>4</th>\n",
       "      <td>6.740618e-67</td>\n",
       "    </tr>\n",
       "    <tr>\n",
       "      <th>5</th>\n",
       "      <td>6.740618e-67</td>\n",
       "    </tr>\n",
       "    <tr>\n",
       "      <th>6</th>\n",
       "      <td>6.740618e-67</td>\n",
       "    </tr>\n",
       "    <tr>\n",
       "      <th>7</th>\n",
       "      <td>6.740618e-67</td>\n",
       "    </tr>\n",
       "    <tr>\n",
       "      <th>8</th>\n",
       "      <td>6.740635e-67</td>\n",
       "    </tr>\n",
       "    <tr>\n",
       "      <th>9</th>\n",
       "      <td>6.740624e-67</td>\n",
       "    </tr>\n",
       "    <tr>\n",
       "      <th>10</th>\n",
       "      <td>4.417517e-62</td>\n",
       "    </tr>\n",
       "    <tr>\n",
       "      <th>11</th>\n",
       "      <td>4.417524e-62</td>\n",
       "    </tr>\n",
       "    <tr>\n",
       "      <th>12</th>\n",
       "      <td>6.740635e-67</td>\n",
       "    </tr>\n",
       "    <tr>\n",
       "      <th>13</th>\n",
       "      <td>6.740641e-67</td>\n",
       "    </tr>\n",
       "    <tr>\n",
       "      <th>14</th>\n",
       "      <td>6.740635e-67</td>\n",
       "    </tr>\n",
       "    <tr>\n",
       "      <th>15</th>\n",
       "      <td>6.740635e-67</td>\n",
       "    </tr>\n",
       "    <tr>\n",
       "      <th>16</th>\n",
       "      <td>6.740624e-67</td>\n",
       "    </tr>\n",
       "    <tr>\n",
       "      <th>17</th>\n",
       "      <td>6.740618e-67</td>\n",
       "    </tr>\n",
       "    <tr>\n",
       "      <th>18</th>\n",
       "      <td>4.417547e-62</td>\n",
       "    </tr>\n",
       "    <tr>\n",
       "      <th>19</th>\n",
       "      <td>4.417547e-62</td>\n",
       "    </tr>\n",
       "    <tr>\n",
       "      <th>20</th>\n",
       "      <td>4.417532e-62</td>\n",
       "    </tr>\n",
       "    <tr>\n",
       "      <th>21</th>\n",
       "      <td>6.740596e-67</td>\n",
       "    </tr>\n",
       "    <tr>\n",
       "      <th>22</th>\n",
       "      <td>4.417547e-62</td>\n",
       "    </tr>\n",
       "    <tr>\n",
       "      <th>23</th>\n",
       "      <td>4.417524e-62</td>\n",
       "    </tr>\n",
       "    <tr>\n",
       "      <th>24</th>\n",
       "      <td>4.417517e-62</td>\n",
       "    </tr>\n",
       "    <tr>\n",
       "      <th>25</th>\n",
       "      <td>4.417524e-62</td>\n",
       "    </tr>\n",
       "    <tr>\n",
       "      <th>26</th>\n",
       "      <td>4.417535e-62</td>\n",
       "    </tr>\n",
       "    <tr>\n",
       "      <th>27</th>\n",
       "      <td>4.417543e-62</td>\n",
       "    </tr>\n",
       "    <tr>\n",
       "      <th>28</th>\n",
       "      <td>4.417532e-62</td>\n",
       "    </tr>\n",
       "    <tr>\n",
       "      <th>29</th>\n",
       "      <td>4.417532e-62</td>\n",
       "    </tr>\n",
       "    <tr>\n",
       "      <th>...</th>\n",
       "      <td>...</td>\n",
       "    </tr>\n",
       "    <tr>\n",
       "      <th>228044666</th>\n",
       "      <td>8.986940e-96</td>\n",
       "    </tr>\n",
       "    <tr>\n",
       "      <th>228044667</th>\n",
       "      <td>4.417528e-62</td>\n",
       "    </tr>\n",
       "    <tr>\n",
       "      <th>228044668</th>\n",
       "      <td>5.231427e-67</td>\n",
       "    </tr>\n",
       "    <tr>\n",
       "      <th>228044669</th>\n",
       "      <td>9.455108e-96</td>\n",
       "    </tr>\n",
       "    <tr>\n",
       "      <th>228044670</th>\n",
       "      <td>4.417532e-62</td>\n",
       "    </tr>\n",
       "    <tr>\n",
       "      <th>228044671</th>\n",
       "      <td>5.229978e-67</td>\n",
       "    </tr>\n",
       "    <tr>\n",
       "      <th>228044672</th>\n",
       "      <td>9.923275e-96</td>\n",
       "    </tr>\n",
       "    <tr>\n",
       "      <th>228044673</th>\n",
       "      <td>4.417528e-62</td>\n",
       "    </tr>\n",
       "    <tr>\n",
       "      <th>228044674</th>\n",
       "      <td>5.229978e-67</td>\n",
       "    </tr>\n",
       "    <tr>\n",
       "      <th>228044675</th>\n",
       "      <td>8.518772e-96</td>\n",
       "    </tr>\n",
       "    <tr>\n",
       "      <th>228044676</th>\n",
       "      <td>3.307336e-33</td>\n",
       "    </tr>\n",
       "    <tr>\n",
       "      <th>228044677</th>\n",
       "      <td>3.428943e-62</td>\n",
       "    </tr>\n",
       "    <tr>\n",
       "      <th>228044678</th>\n",
       "      <td>7.582437e-96</td>\n",
       "    </tr>\n",
       "    <tr>\n",
       "      <th>228044679</th>\n",
       "      <td>3.307339e-33</td>\n",
       "    </tr>\n",
       "    <tr>\n",
       "      <th>228044680</th>\n",
       "      <td>5.230702e-67</td>\n",
       "    </tr>\n",
       "    <tr>\n",
       "      <th>228044681</th>\n",
       "      <td>8.986940e-96</td>\n",
       "    </tr>\n",
       "    <tr>\n",
       "      <th>228044682</th>\n",
       "      <td>1.028534e-71</td>\n",
       "    </tr>\n",
       "    <tr>\n",
       "      <th>228044683</th>\n",
       "      <td>5.229978e-67</td>\n",
       "    </tr>\n",
       "    <tr>\n",
       "      <th>228044684</th>\n",
       "      <td>8.986940e-96</td>\n",
       "    </tr>\n",
       "    <tr>\n",
       "      <th>228044685</th>\n",
       "      <td>1.028535e-71</td>\n",
       "    </tr>\n",
       "    <tr>\n",
       "      <th>228044686</th>\n",
       "      <td>5.229253e-67</td>\n",
       "    </tr>\n",
       "    <tr>\n",
       "      <th>228044687</th>\n",
       "      <td>8.518772e-96</td>\n",
       "    </tr>\n",
       "    <tr>\n",
       "      <th>228044688</th>\n",
       "      <td>6.740607e-67</td>\n",
       "    </tr>\n",
       "    <tr>\n",
       "      <th>228044689</th>\n",
       "      <td>5.229253e-67</td>\n",
       "    </tr>\n",
       "    <tr>\n",
       "      <th>228044690</th>\n",
       "      <td>8.986940e-96</td>\n",
       "    </tr>\n",
       "    <tr>\n",
       "      <th>228044691</th>\n",
       "      <td>2.895074e-57</td>\n",
       "    </tr>\n",
       "    <tr>\n",
       "      <th>228044692</th>\n",
       "      <td>5.231427e-67</td>\n",
       "    </tr>\n",
       "    <tr>\n",
       "      <th>228044693</th>\n",
       "      <td>9.455108e-96</td>\n",
       "    </tr>\n",
       "    <tr>\n",
       "      <th>228044694</th>\n",
       "      <td>3.499938e-33</td>\n",
       "    </tr>\n",
       "    <tr>\n",
       "      <th>228044695</th>\n",
       "      <td>5.230702e-67</td>\n",
       "    </tr>\n",
       "  </tbody>\n",
       "</table>\n",
       "<p>228044696 rows × 1 columns</p>\n",
       "</div>"
      ],
      "text/plain": [
       "                      0\n",
       "0          6.740630e-67\n",
       "1          6.740596e-67\n",
       "2          6.740630e-67\n",
       "3          6.740596e-67\n",
       "4          6.740618e-67\n",
       "5          6.740618e-67\n",
       "6          6.740618e-67\n",
       "7          6.740618e-67\n",
       "8          6.740635e-67\n",
       "9          6.740624e-67\n",
       "10         4.417517e-62\n",
       "11         4.417524e-62\n",
       "12         6.740635e-67\n",
       "13         6.740641e-67\n",
       "14         6.740635e-67\n",
       "15         6.740635e-67\n",
       "16         6.740624e-67\n",
       "17         6.740618e-67\n",
       "18         4.417547e-62\n",
       "19         4.417547e-62\n",
       "20         4.417532e-62\n",
       "21         6.740596e-67\n",
       "22         4.417547e-62\n",
       "23         4.417524e-62\n",
       "24         4.417517e-62\n",
       "25         4.417524e-62\n",
       "26         4.417535e-62\n",
       "27         4.417543e-62\n",
       "28         4.417532e-62\n",
       "29         4.417532e-62\n",
       "...                 ...\n",
       "228044666  8.986940e-96\n",
       "228044667  4.417528e-62\n",
       "228044668  5.231427e-67\n",
       "228044669  9.455108e-96\n",
       "228044670  4.417532e-62\n",
       "228044671  5.229978e-67\n",
       "228044672  9.923275e-96\n",
       "228044673  4.417528e-62\n",
       "228044674  5.229978e-67\n",
       "228044675  8.518772e-96\n",
       "228044676  3.307336e-33\n",
       "228044677  3.428943e-62\n",
       "228044678  7.582437e-96\n",
       "228044679  3.307339e-33\n",
       "228044680  5.230702e-67\n",
       "228044681  8.986940e-96\n",
       "228044682  1.028534e-71\n",
       "228044683  5.229978e-67\n",
       "228044684  8.986940e-96\n",
       "228044685  1.028535e-71\n",
       "228044686  5.229253e-67\n",
       "228044687  8.518772e-96\n",
       "228044688  6.740607e-67\n",
       "228044689  5.229253e-67\n",
       "228044690  8.986940e-96\n",
       "228044691  2.895074e-57\n",
       "228044692  5.231427e-67\n",
       "228044693  9.455108e-96\n",
       "228044694  3.499938e-33\n",
       "228044695  5.230702e-67\n",
       "\n",
       "[228044696 rows x 1 columns]"
      ]
     },
     "execution_count": 10,
     "metadata": {},
     "output_type": "execute_result"
    }
   ],
   "source": [
    "matrix_df"
   ]
  },
  {
   "cell_type": "markdown",
   "metadata": {},
   "source": [
    "Prior to modelling in milestone 3, we will apply PCA to these matrices for dimensionality reduction."
   ]
  },
  {
   "cell_type": "markdown",
   "metadata": {},
   "source": [
    "---"
   ]
  },
  {
   "cell_type": "markdown",
   "metadata": {},
   "source": [
    "## Bag-of-Words Analysis (for Title & Plot)"
   ]
  },
  {
   "cell_type": "markdown",
   "metadata": {},
   "source": [
    "In this section, we use bag-of-words analysis to convert the title and plot summaries into features."
   ]
  },
  {
   "cell_type": "code",
   "execution_count": 33,
   "metadata": {},
   "outputs": [
    {
     "data": {
      "text/html": [
       "<div>\n",
       "<table border=\"1\" class=\"dataframe\">\n",
       "  <thead>\n",
       "    <tr style=\"text-align: right;\">\n",
       "      <th></th>\n",
       "      <th>tmdb_id</th>\n",
       "      <th>imdb_id</th>\n",
       "      <th>title_plot</th>\n",
       "    </tr>\n",
       "  </thead>\n",
       "  <tbody>\n",
       "    <tr>\n",
       "      <th>0</th>\n",
       "      <td>2</td>\n",
       "      <td>0094675</td>\n",
       "      <td>Ariel Taisto Kasurinen is a Finnish coal miner...</td>\n",
       "    </tr>\n",
       "    <tr>\n",
       "      <th>1</th>\n",
       "      <td>3</td>\n",
       "      <td>0092149</td>\n",
       "      <td>Shadows in Paradise An episode in the life of ...</td>\n",
       "    </tr>\n",
       "    <tr>\n",
       "      <th>2</th>\n",
       "      <td>5</td>\n",
       "      <td>0113101</td>\n",
       "      <td>Four Rooms It's Ted the Bellhop's first night ...</td>\n",
       "    </tr>\n",
       "    <tr>\n",
       "      <th>3</th>\n",
       "      <td>6</td>\n",
       "      <td>0107286</td>\n",
       "      <td>Judgment Night While racing to a boxing match,...</td>\n",
       "    </tr>\n",
       "    <tr>\n",
       "      <th>4</th>\n",
       "      <td>8</td>\n",
       "      <td>0825671</td>\n",
       "      <td>Life in Loops (A Megacities RMX) Timo Novotny ...</td>\n",
       "    </tr>\n",
       "  </tbody>\n",
       "</table>\n",
       "</div>"
      ],
      "text/plain": [
       "  tmdb_id  imdb_id                                         title_plot\n",
       "0       2  0094675  Ariel Taisto Kasurinen is a Finnish coal miner...\n",
       "1       3  0092149  Shadows in Paradise An episode in the life of ...\n",
       "2       5  0113101  Four Rooms It's Ted the Bellhop's first night ...\n",
       "3       6  0107286  Judgment Night While racing to a boxing match,...\n",
       "4       8  0825671  Life in Loops (A Megacities RMX) Timo Novotny ..."
      ]
     },
     "execution_count": 33,
     "metadata": {},
     "output_type": "execute_result"
    }
   ],
   "source": [
    "# load csv file\n",
    "raw = pd.read_table('tmdb_movie_info_100k.txt')\n",
    "\n",
    "# concatenate title and plot together \n",
    "raw['title_plot'] = raw['title'].astype(str) + ' ' + raw['plot'].astype(str)\n",
    "\n",
    "# drop all columns except title and plot\n",
    "raw = raw[['tmdb_id', 'imdb_id', 'title_plot']]\n",
    "\n",
    "# view first few rows\n",
    "raw.head()"
   ]
  },
  {
   "cell_type": "code",
   "execution_count": 34,
   "metadata": {},
   "outputs": [
    {
     "data": {
      "text/plain": [
       "389"
      ]
     },
     "execution_count": 34,
     "metadata": {},
     "output_type": "execute_result"
    }
   ],
   "source": [
    "# create bag-of-words matrix\n",
    "from sklearn.feature_extraction.text import TfidfVectorizer\n",
    "# ignore stop words and only consider words that make up at least 1% of the corpus\n",
    "vectorizer = TfidfVectorizer(stop_words='english', min_df=0.01)\n",
    "corpus = raw['title_plot'].values\n",
    "X = vectorizer.fit_transform(corpus)\n",
    "vocab = vectorizer.get_feature_names()\n",
    "len(vocab)"
   ]
  },
  {
   "cell_type": "code",
   "execution_count": 35,
   "metadata": {},
   "outputs": [
    {
     "name": "stdout",
     "output_type": "stream",
     "text": [
      "[u'accident', u'action', u'adventure', u'affair', u'age', u'agent', u'america', u'american', u'amp', u'army', u'arrives', u'art', u'artist', u'attempt', u'attempts', u'away', u'baby', u'bad', u'band', u'based', u'battle', u'beautiful', u'begin', u'begins', u'best', u'big', u'black', u'blood', u'body', u'book', u'boss', u'boy', u'boyfriend', u'boys', u'break', u'bring', u'brings', u'british', u'brother', u'brothers', u'business', u'called', u'car', u'career', u'case', u'caught', u'century', u'chance', u'change', u'characters', u'child', u'childhood', u'children', u'city', u'class', u'classic', u'close', u'college', u'come', u'comedy', u'comes', u'coming', u'company', u'concert', u'control', u'cop', u'country', u'couple', u'course', u'crew', u'crime', u'criminal', u'dangerous', u'dark', u'daughter', u'david', u'day', u'days', u'dead', u'deadly', u'deal', u'death', u'decide', u'decides', u'despite', u'detective', u'die', u'dies', u'different', u'directed', u'director', u'discover', u'discovers', u'doctor', u'documentary', u'does', u'doesn', u'don', u'dr', u'drama', u'dream', u'dreams', u'drug', u'early', u'earth', u'end', u'ends', u'escape', u'events', u'eventually', u'evil', u'ex', u'face', u'fall', u'falls', u'family', u'famous', u'far', u'father', u'female', u'fight', u'film', u'films', u'final', u'finally', u'finds', u'following', u'follows', u'footage', u'force', u'forced', u'forces', u'form', u'free', u'french', u'friend', u'friends', u'friendship', u'future', u'game', u'gang', u'german', u'gets', u'getting', u'girl', u'girlfriend', u'girls', u'gives', u'goes', u'going', u'good', u'government', u'great', u'group', u'guy', u'hand', u'hands', u'happy', u'hard', u'having', u'head', u'heart', u'help', u'hero', u'high', u'history', u'hit', u'home', u'horror', u'house', u'human', u'husband', u'ii', u'including', u'inside', u'instead', u'involved', u'island', u'japanese', u'job', u'john', u'join', u'journey', u'just', u'kids', u'kill', u'killed', u'killer', u'killing', u'king', u'know', u'known', u'la', u'lady', u'land', u'late', u'later', u'law', u'lead', u'leader', u'leads', u'learn', u'learns', u'leave', u'leaves', u'left', u'life', u'like', u'little', u'live', u'lives', u'living', u'local', u'london', u'long', u'look', u'looking', u'los', u'lost', u'love', u'lover', u'make', u'makes', u'making', u'man', u'marriage', u'married', u'marry', u'master', u'meet', u'meets', u'members', u'men', u'middle', u'military', u'mind', u'missing', u'mission', u'modern', u'money', u'mother', u'moves', u'movie', u'mr', u'murder', u'murdered', u'music', u'mysterious', u'named', u'nan', u'new', u'night', u'novel', u'officer', u'old', u'order', u'overview', u'owner', u'parents', u'paris', u'party', u'past', u'people', u'perfect', u'personal', u'place', u'plan', u'plans', u'play', u'plays', u'plot', u'police', u'political', u'popular', u'power', u'powerful', u'prison', u'private', u'problems', u'quickly', u'race', u'real', u'really', u'red', u'relationship', u'released', u'rescue', u'return', u'returns', u'revenge', u'rich', u'right', u'road', u'rock', u'romance', u'romantic', u'run', u'runs', u'save', u'school', u'search', u'second', u'secret', u'seen', u'sees', u'self', u'sent', u'series', u'set', u'sets', u'sex', u'sexual', u'short', u'shot', u'shows', u'singer', u'sister', u'small', u'society', u'son', u'soon', u'south', u'special', u'stage', u'stand', u'star', u'stars', u'start', u'starts', u'state', u'stay', u'stop', u'stories', u'story', u'strange', u'street', u'student', u'students', u'successful', u'suddenly', u'summer', u'taken', u'takes', u'taking', u'tale', u'teacher', u'team', u'tells', u'things', u'time', u'tour', u'town', u'tries', u'trip', u'trouble', u'true', u'truth', u'try', u'trying', u'turn', u'turns', u'tv', u'use', u'using', u'video', u'village', u'visit', u'want', u'wants', u'war', u'way', u'wealthy', u'west', u'white', u'wife', u'wild', u'win', u'woman', u'women', u'work', u'working', u'works', u'world', u'writer', u'written', u'year', u'years', u'york', u'young']\n"
     ]
    }
   ],
   "source": [
    "print(vocab)"
   ]
  },
  {
   "cell_type": "markdown",
   "metadata": {},
   "source": [
    "There are 389 words in the vocabulary, as shown above. We view the final weighted frequency matrix which was generated using Term Frequency times Inverse Document Frequency (tf-idf)."
   ]
  },
  {
   "cell_type": "code",
   "execution_count": 40,
   "metadata": {},
   "outputs": [
    {
     "data": {
      "text/html": [
       "<div>\n",
       "<table border=\"1\" class=\"dataframe\">\n",
       "  <thead>\n",
       "    <tr style=\"text-align: right;\">\n",
       "      <th></th>\n",
       "      <th>tmdb_id</th>\n",
       "      <th>word_accident</th>\n",
       "      <th>word_action</th>\n",
       "      <th>word_adventure</th>\n",
       "      <th>word_affair</th>\n",
       "      <th>word_age</th>\n",
       "      <th>word_agent</th>\n",
       "      <th>word_america</th>\n",
       "      <th>word_american</th>\n",
       "      <th>word_amp</th>\n",
       "      <th>...</th>\n",
       "      <th>word_work</th>\n",
       "      <th>word_working</th>\n",
       "      <th>word_works</th>\n",
       "      <th>word_world</th>\n",
       "      <th>word_writer</th>\n",
       "      <th>word_written</th>\n",
       "      <th>word_year</th>\n",
       "      <th>word_years</th>\n",
       "      <th>word_york</th>\n",
       "      <th>word_young</th>\n",
       "    </tr>\n",
       "  </thead>\n",
       "  <tbody>\n",
       "    <tr>\n",
       "      <th>0</th>\n",
       "      <td>2</td>\n",
       "      <td>0.0</td>\n",
       "      <td>0.0</td>\n",
       "      <td>0.000000</td>\n",
       "      <td>0.000000</td>\n",
       "      <td>0.0</td>\n",
       "      <td>0.0</td>\n",
       "      <td>0.0</td>\n",
       "      <td>0.0</td>\n",
       "      <td>0.000000</td>\n",
       "      <td>...</td>\n",
       "      <td>0.0</td>\n",
       "      <td>0.0</td>\n",
       "      <td>0.0</td>\n",
       "      <td>0.000000</td>\n",
       "      <td>0.0</td>\n",
       "      <td>0.000000</td>\n",
       "      <td>0.0</td>\n",
       "      <td>0.0</td>\n",
       "      <td>0.000000</td>\n",
       "      <td>0.0</td>\n",
       "    </tr>\n",
       "    <tr>\n",
       "      <th>1</th>\n",
       "      <td>3</td>\n",
       "      <td>0.0</td>\n",
       "      <td>0.0</td>\n",
       "      <td>0.000000</td>\n",
       "      <td>0.665059</td>\n",
       "      <td>0.0</td>\n",
       "      <td>0.0</td>\n",
       "      <td>0.0</td>\n",
       "      <td>0.0</td>\n",
       "      <td>0.000000</td>\n",
       "      <td>...</td>\n",
       "      <td>0.0</td>\n",
       "      <td>0.0</td>\n",
       "      <td>0.0</td>\n",
       "      <td>0.000000</td>\n",
       "      <td>0.0</td>\n",
       "      <td>0.000000</td>\n",
       "      <td>0.0</td>\n",
       "      <td>0.0</td>\n",
       "      <td>0.000000</td>\n",
       "      <td>0.0</td>\n",
       "    </tr>\n",
       "    <tr>\n",
       "      <th>2</th>\n",
       "      <td>5</td>\n",
       "      <td>0.0</td>\n",
       "      <td>0.0</td>\n",
       "      <td>0.000000</td>\n",
       "      <td>0.000000</td>\n",
       "      <td>0.0</td>\n",
       "      <td>0.0</td>\n",
       "      <td>0.0</td>\n",
       "      <td>0.0</td>\n",
       "      <td>0.000000</td>\n",
       "      <td>...</td>\n",
       "      <td>0.0</td>\n",
       "      <td>0.0</td>\n",
       "      <td>0.0</td>\n",
       "      <td>0.000000</td>\n",
       "      <td>0.0</td>\n",
       "      <td>0.000000</td>\n",
       "      <td>0.0</td>\n",
       "      <td>0.0</td>\n",
       "      <td>0.000000</td>\n",
       "      <td>0.0</td>\n",
       "    </tr>\n",
       "    <tr>\n",
       "      <th>3</th>\n",
       "      <td>6</td>\n",
       "      <td>0.0</td>\n",
       "      <td>0.0</td>\n",
       "      <td>0.000000</td>\n",
       "      <td>0.000000</td>\n",
       "      <td>0.0</td>\n",
       "      <td>0.0</td>\n",
       "      <td>0.0</td>\n",
       "      <td>0.0</td>\n",
       "      <td>0.394097</td>\n",
       "      <td>...</td>\n",
       "      <td>0.0</td>\n",
       "      <td>0.0</td>\n",
       "      <td>0.0</td>\n",
       "      <td>0.000000</td>\n",
       "      <td>0.0</td>\n",
       "      <td>0.000000</td>\n",
       "      <td>0.0</td>\n",
       "      <td>0.0</td>\n",
       "      <td>0.000000</td>\n",
       "      <td>0.0</td>\n",
       "    </tr>\n",
       "    <tr>\n",
       "      <th>4</th>\n",
       "      <td>8</td>\n",
       "      <td>0.0</td>\n",
       "      <td>0.0</td>\n",
       "      <td>0.184482</td>\n",
       "      <td>0.000000</td>\n",
       "      <td>0.0</td>\n",
       "      <td>0.0</td>\n",
       "      <td>0.0</td>\n",
       "      <td>0.0</td>\n",
       "      <td>0.000000</td>\n",
       "      <td>...</td>\n",
       "      <td>0.0</td>\n",
       "      <td>0.0</td>\n",
       "      <td>0.0</td>\n",
       "      <td>0.119018</td>\n",
       "      <td>0.0</td>\n",
       "      <td>0.180166</td>\n",
       "      <td>0.0</td>\n",
       "      <td>0.0</td>\n",
       "      <td>0.165786</td>\n",
       "      <td>0.0</td>\n",
       "    </tr>\n",
       "  </tbody>\n",
       "</table>\n",
       "<p>5 rows × 390 columns</p>\n",
       "</div>"
      ],
      "text/plain": [
       "  tmdb_id  word_accident  word_action  word_adventure  word_affair  word_age  \\\n",
       "0       2            0.0          0.0        0.000000     0.000000       0.0   \n",
       "1       3            0.0          0.0        0.000000     0.665059       0.0   \n",
       "2       5            0.0          0.0        0.000000     0.000000       0.0   \n",
       "3       6            0.0          0.0        0.000000     0.000000       0.0   \n",
       "4       8            0.0          0.0        0.184482     0.000000       0.0   \n",
       "\n",
       "   word_agent  word_america  word_american  word_amp     ...      word_work  \\\n",
       "0         0.0           0.0            0.0  0.000000     ...            0.0   \n",
       "1         0.0           0.0            0.0  0.000000     ...            0.0   \n",
       "2         0.0           0.0            0.0  0.000000     ...            0.0   \n",
       "3         0.0           0.0            0.0  0.394097     ...            0.0   \n",
       "4         0.0           0.0            0.0  0.000000     ...            0.0   \n",
       "\n",
       "   word_working  word_works  word_world  word_writer  word_written  word_year  \\\n",
       "0           0.0         0.0    0.000000          0.0      0.000000        0.0   \n",
       "1           0.0         0.0    0.000000          0.0      0.000000        0.0   \n",
       "2           0.0         0.0    0.000000          0.0      0.000000        0.0   \n",
       "3           0.0         0.0    0.000000          0.0      0.000000        0.0   \n",
       "4           0.0         0.0    0.119018          0.0      0.180166        0.0   \n",
       "\n",
       "   word_years  word_york  word_young  \n",
       "0         0.0   0.000000         0.0  \n",
       "1         0.0   0.000000         0.0  \n",
       "2         0.0   0.000000         0.0  \n",
       "3         0.0   0.000000         0.0  \n",
       "4         0.0   0.165786         0.0  \n",
       "\n",
       "[5 rows x 390 columns]"
      ]
     },
     "execution_count": 40,
     "metadata": {},
     "output_type": "execute_result"
    }
   ],
   "source": [
    "bagofwords = pd.DataFrame(X.toarray(), columns=vocab)\n",
    "bagofwords = bagofwords.add_prefix('word_')\n",
    "bagofwords = pd.concat([raw[['tmdb_id']], bagofwords], axis=1)\n",
    "bagofwords.head()"
   ]
  },
  {
   "cell_type": "code",
   "execution_count": 41,
   "metadata": {
    "collapsed": true
   },
   "outputs": [],
   "source": [
    "bagofwords.to_csv('bagofwords_vars.csv')"
   ]
  },
  {
   "cell_type": "markdown",
   "metadata": {},
   "source": [
    "---"
   ]
  },
  {
   "cell_type": "markdown",
   "metadata": {},
   "source": [
    "## Further Data Cleanup"
   ]
  },
  {
   "cell_type": "markdown",
   "metadata": {},
   "source": [
    "- further cleanup/data manipulation eg. production companies, release date (apply R scripts)\n",
    "- get dummy variables for categorical variables"
   ]
  },
  {
   "cell_type": "markdown",
   "metadata": {},
   "source": [
    "### Preparing the Coding Environment\n",
    "The analysis was performed using a R-Kernel. In order to reproduce the results, the kernel has to be switched. To install the R essentials in the current environment, execute the following code in your system prompt:\n",
    "\n",
    "```bash\n",
    "conda install -c r r-essentials\n",
    "```\n",
    "\n",
    "**Machine:**   Windows 7 | Intel i7-3540M @ 3.00GHz | 16.00 GB RAM\n",
    "\n",
    "**R Version:** Microsoft R Open 3.3.2 -- \"Sincere Pumpkin Patch\"\n",
    "\n",
    "We need to set some global options for the R environment. The only thing that one might have to change is the .libPaths part."
   ]
  },
  {
   "cell_type": "code",
   "execution_count": 3,
   "metadata": {},
   "outputs": [
    {
     "data": {
      "text/html": [
       "'C'"
      ],
      "text/latex": [
       "'C'"
      ],
      "text/markdown": [
       "'C'"
      ],
      "text/plain": [
       "[1] \"C\""
      ]
     },
     "metadata": {},
     "output_type": "display_data"
    }
   ],
   "source": [
    "## Options\n",
    "options(scipen=10)\n",
    "update_package <- FALSE\n",
    "options(java.parameters=\"-Xmx6g\")\n",
    "options(warn=-1)\n",
    "\n",
    "# Set the library/packages path\n",
    "options(repos = c(CRAN = \"https://cran.revolutionanalytics.com\"))\n",
    ".libPaths(\"C:/Local/R/win-library/3.2\")\n",
    "\n",
    "# Set local time\n",
    "Sys.setenv(LANG = \"en\")\n",
    "Sys.setlocale(\"LC_TIME\", \"C\")"
   ]
  },
  {
   "cell_type": "markdown",
   "metadata": {},
   "source": [
    "Here, we load some project specific packages and functions. `01_init.R` is just a helper script, `02_packages.R` loads and installs the required packages and libraries, and `03_functions.R` loads functions specifically written for this analysis."
   ]
  },
  {
   "cell_type": "code",
   "execution_count": 13,
   "metadata": {
    "collapsed": true
   },
   "outputs": [],
   "source": [
    "## Init files (always execute, eta: 10s)\n",
    "suppressMessages(source(\"scripts/01_init.R\"))                   # Helper functions to load packages\n",
    "suppressMessages(source(\"scripts/02_packages.R\"))               # Load all necessary packages\n",
    "suppressMessages(source(\"scripts/03_functions.R\"))              # Load project specific functions"
   ]
  },
  {
   "cell_type": "markdown",
   "metadata": {},
   "source": [
    "### Cleaning the Data\n",
    "First, we load the data gathered from TMDb."
   ]
  },
  {
   "cell_type": "markdown",
   "metadata": {},
   "source": [
    "### View Final Dataframe\n",
    "\n",
    "Finally, we take a look at the final dataframe, which has a total of () observations and () variables."
   ]
  },
  {
   "cell_type": "markdown",
   "metadata": {},
   "source": [
    "---"
   ]
  },
  {
   "cell_type": "markdown",
   "metadata": {},
   "source": [
    "## Imbalanced Data"
   ]
  },
  {
   "cell_type": "markdown",
   "metadata": {},
   "source": [
    "Here, we visualize the imbalanced nature of our data by plotting the number of movies in each genre."
   ]
  },
  {
   "cell_type": "code",
   "execution_count": null,
   "metadata": {
    "collapsed": true
   },
   "outputs": [],
   "source": [
    "ggplot"
   ]
  },
  {
   "cell_type": "markdown",
   "metadata": {},
   "source": [
    "From the plot above, we can see that there is imbalanced data, as there are a lot more () movies than () movies. To address this issue, we will employ **class weighting** in our models."
   ]
  },
  {
   "cell_type": "markdown",
   "metadata": {},
   "source": [
    "---"
   ]
  },
  {
   "cell_type": "markdown",
   "metadata": {},
   "source": [
    "## Missing Data"
   ]
  },
  {
   "cell_type": "markdown",
   "metadata": {},
   "source": [
    "Here, we assess the amount of missing data we have."
   ]
  },
  {
   "cell_type": "code",
   "execution_count": null,
   "metadata": {
    "collapsed": true
   },
   "outputs": [],
   "source": [
    "# generate table to assess extent of missing data\n",
    "def missing_values_table(df): \n",
    "    mis_val = df.isnull().sum()\n",
    "    mis_val_percent = 100 * df.isnull().sum()/len(df)\n",
    "    mis_val_table = pd.concat([mis_val, mis_val_percent], axis=1)\n",
    "    mis_val_table_ren_columns = mis_val_table.rename(columns = {0: 'Missing Values', 1: '% Missing Values'})\n",
    "    return mis_val_table_ren_columns\n",
    "\n",
    "missing_values_table(x)"
   ]
  },
  {
   "cell_type": "markdown",
   "metadata": {},
   "source": [
    "---"
   ]
  },
  {
   "cell_type": "markdown",
   "metadata": {},
   "source": [
    "## Next Steps"
   ]
  },
  {
   "cell_type": "markdown",
   "metadata": {
    "collapsed": true
   },
   "source": [
    "Moving forward, we will split the dataset into training and testing sets. Then, we will train classification models with traditional machine learning methods, such as random forest and support vector machine, and evaluate their performance on the test set. We will consider and explain what we want to use as our performance metric(s). "
   ]
  },
  {
   "cell_type": "markdown",
   "metadata": {},
   "source": [
    "---"
   ]
  }
 ],
 "metadata": {
  "anaconda-cloud": {},
  "kernelspec": {
   "display_name": "Python [Root]",
   "language": "python",
   "name": "Python [Root]"
  },
  "language_info": {
   "codemirror_mode": {
    "name": "ipython",
    "version": 2
   },
   "file_extension": ".py",
   "mimetype": "text/x-python",
   "name": "python",
   "nbconvert_exporter": "python",
   "pygments_lexer": "ipython2",
   "version": "2.7.12"
  }
 },
 "nbformat": 4,
 "nbformat_minor": 1
}
