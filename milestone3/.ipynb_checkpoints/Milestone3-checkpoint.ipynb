{
 "cells": [
  {
   "cell_type": "markdown",
   "metadata": {},
   "source": [
    "# Milestone 3 - CS109B Project Group 29\n",
    "**\"Predicting Movie Genres\"**<br>\n",
    "**CS109B (Spring 2017) Final Project Group 29**<br>\n",
    "Calvin J Chiew, Tim Hagmann, Ji Hua<br>\n",
    "TF: Taira Miyatake<br>"
   ]
  },
  {
   "cell_type": "markdown",
   "metadata": {},
   "source": [
    "## Deliverables\n",
    "\n",
    "- Detailed description and implementation of two different models\n",
    "- Description of your performance metrics\n",
    "- Careful performance evaluations for both models\n",
    "- Visualizations of the metrics for performance evaluation\n",
    "- Discussion of the differences between the models, their strengths, weaknesses, etc.\n",
    "- Discussion of the performances you achieved, and how you might be able to improve them in the future"
   ]
  },
  {
   "cell_type": "markdown",
   "metadata": {},
   "source": [
    "## Import Libraries"
   ]
  },
  {
   "cell_type": "code",
   "execution_count": 1,
   "metadata": {
    "collapsed": true
   },
   "outputs": [],
   "source": [
    "import numpy as np\n",
    "import pandas as pd\n",
    "import matplotlib\n",
    "import matplotlib.pyplot as plt\n",
    "%matplotlib inline\n",
    "import random\n",
    "import pickle\n",
    "from sklearn import preprocessing\n",
    "from sklearn.model_selection import train_test_split\n",
    "from sklearn.ensemble import RandomForestClassifier\n",
    "from sklearn.multiclass import OneVsRestClassifier\n",
    "from sklearn.svm import SVC\n",
    "from sklearn.linear_model import LogisticRegression\n",
    "from sklearn.neighbors import KNeighborsClassifier"
   ]
  },
  {
   "cell_type": "markdown",
   "metadata": {},
   "source": [
    "## Overview"
   ]
  },
  {
   "cell_type": "markdown",
   "metadata": {},
   "source": [
    "In this milestone, we will use movie metadata extracted from TMDb and IMDb to train two \"traditional\" ML classifiers that can predict movie genres. We will not use movie poster data for now. "
   ]
  },
  {
   "cell_type": "markdown",
   "metadata": {},
   "source": [
    "### Performance Metrics"
   ]
  },
  {
   "cell_type": "markdown",
   "metadata": {
    "collapsed": true
   },
   "source": [
    "Evaluation of model performance is tricky, due to the multi-label nature of the problem. For example, if a movie's true genre labels are A and B, but our model only predicted label A (or B, but not both) -- was this prediction correct or wrong? And what if the model predicted labels A and B plus an extra C genre? In order to calculate \"test accuracy\", we would have to make a difficult judgment - whether we valued precision or recall more?\n",
    "\n",
    "Earlier, we decided to have 20 outcome variables -- 19 binary (1/0) flags, one for each of the 19 genre classifications used by TMDb (namely Adventure, Fantasy, Animation, Drama, Horror, Action, Comedy, History, Western, Thriller, Crime, Documentary, Science Fiction, Mystery, Music, Romance, Family, War and Foreign), and a 20th continuous outcome variable, the number of genre assigned (see Milestone 2 on our choice of outcome 'Y' variables).\n",
    "\n",
    "After extensive discussion, we felt that in line with our choice of outcome variables, we could evaluate our model's performance on each outcome variable separately. We will therefore end up with 20 performance metrics for our model, which can be visualized and summarized (for example by taking the mean). This will allow us to side-step the problem of defining prediction accuracy as described above."
   ]
  },
  {
   "cell_type": "markdown",
   "metadata": {},
   "source": [
    "### Data Preparation"
   ]
  },
  {
   "cell_type": "markdown",
   "metadata": {},
   "source": [
    "The data was manipulated and cleaned in Milestone 2 in preparation for modelling. In summary, our final dataframe consisted of the following variables:\n",
    "\n",
    "*Predictors from TMDb*\n",
    "- Title and plot summary, which have been converted using bag-of-words analysis into a term frequency times inverse document frequency (tf-idf) matrix of 389 vocabulary words (that make up at least 1% of the corpus) \n",
    "- Production company, which has been converted into 20 indicator variables, representing the top 20 production companies with the most films\n",
    "- Release date, which has been transformed into release year and release month\n",
    "- Runtime (mins)\n",
    "- Budget (USD)\n",
    "- Revenue (USD)\n",
    "- Popularity\n",
    "- Average user rating (on scale of 1-10)\n",
    "\n",
    "*Predictors from IMDb*\n",
    "- Cast (first 5 listed), directors (first 2 listed) and writers (first 2 listed), which have been converted into 150, 75 and 75 indicator variables respectively, representing the top 150 cast and top 75 directors and writers with the most films\n",
    "- US MPAA picture rating (eg. PG-13, R-21 etc.)\n",
    "\n",
    "*Outcome Variables*\n",
    "- TMDb genres, which have been dummy-coded into 19 indicator variables, one for each genre category\n",
    "- Number of TMDb genre tags"
   ]
  },
  {
   "cell_type": "markdown",
   "metadata": {},
   "source": [
    "---"
   ]
  },
  {
   "cell_type": "markdown",
   "metadata": {},
   "source": [
    "## Prepare Train & Test Sets"
   ]
  },
  {
   "cell_type": "code",
   "execution_count": 2,
   "metadata": {},
   "outputs": [
    {
     "name": "stderr",
     "output_type": "stream",
     "text": [
      "C:\\Users\\Calvin\\Anaconda2\\lib\\site-packages\\IPython\\core\\interactiveshell.py:2723: DtypeWarning: Columns (1,2,5,6) have mixed types. Specify dtype option on import or set low_memory=False.\n",
      "  interactivity=interactivity, compiler=compiler, result=result)\n"
     ]
    },
    {
     "data": {
      "text/html": [
       "<div>\n",
       "<table border=\"1\" class=\"dataframe\">\n",
       "  <thead>\n",
       "    <tr style=\"text-align: right;\">\n",
       "      <th></th>\n",
       "      <th>budget</th>\n",
       "      <th>revenue</th>\n",
       "      <th>runtime</th>\n",
       "      <th>popularity</th>\n",
       "      <th>user_rating</th>\n",
       "      <th>release_year</th>\n",
       "      <th>release_month</th>\n",
       "      <th>USA_rating</th>\n",
       "      <th>Warner Bros</th>\n",
       "      <th>Metro-Goldwyn-Mayer MGM</th>\n",
       "      <th>...</th>\n",
       "      <th>Crime</th>\n",
       "      <th>Documentary</th>\n",
       "      <th>Science Fiction</th>\n",
       "      <th>Mystery</th>\n",
       "      <th>Music</th>\n",
       "      <th>Romance</th>\n",
       "      <th>Family</th>\n",
       "      <th>War</th>\n",
       "      <th>Foreign</th>\n",
       "      <th>num_genres</th>\n",
       "    </tr>\n",
       "  </thead>\n",
       "  <tbody>\n",
       "    <tr>\n",
       "      <th>0</th>\n",
       "      <td>0.0</td>\n",
       "      <td>0.0</td>\n",
       "      <td>69</td>\n",
       "      <td>0.623849</td>\n",
       "      <td>6.8</td>\n",
       "      <td>1988.0</td>\n",
       "      <td>10.0</td>\n",
       "      <td>Missing</td>\n",
       "      <td>0.0</td>\n",
       "      <td>0.0</td>\n",
       "      <td>...</td>\n",
       "      <td>1.0</td>\n",
       "      <td>0.0</td>\n",
       "      <td>0.0</td>\n",
       "      <td>0.0</td>\n",
       "      <td>0.0</td>\n",
       "      <td>0.0</td>\n",
       "      <td>0.0</td>\n",
       "      <td>0.0</td>\n",
       "      <td>0.0</td>\n",
       "      <td>2.0</td>\n",
       "    </tr>\n",
       "    <tr>\n",
       "      <th>1</th>\n",
       "      <td>0.0</td>\n",
       "      <td>0.0</td>\n",
       "      <td>76</td>\n",
       "      <td>0.288572</td>\n",
       "      <td>6.8</td>\n",
       "      <td>1986.0</td>\n",
       "      <td>10.0</td>\n",
       "      <td>Missing</td>\n",
       "      <td>0.0</td>\n",
       "      <td>0.0</td>\n",
       "      <td>...</td>\n",
       "      <td>0.0</td>\n",
       "      <td>0.0</td>\n",
       "      <td>0.0</td>\n",
       "      <td>0.0</td>\n",
       "      <td>0.0</td>\n",
       "      <td>0.0</td>\n",
       "      <td>0.0</td>\n",
       "      <td>0.0</td>\n",
       "      <td>0.0</td>\n",
       "      <td>2.0</td>\n",
       "    </tr>\n",
       "    <tr>\n",
       "      <th>2</th>\n",
       "      <td>4000000.0</td>\n",
       "      <td>4300000.0</td>\n",
       "      <td>98</td>\n",
       "      <td>1.76899</td>\n",
       "      <td>6.4</td>\n",
       "      <td>1995.0</td>\n",
       "      <td>12.0</td>\n",
       "      <td>R</td>\n",
       "      <td>0.0</td>\n",
       "      <td>0.0</td>\n",
       "      <td>...</td>\n",
       "      <td>1.0</td>\n",
       "      <td>0.0</td>\n",
       "      <td>0.0</td>\n",
       "      <td>0.0</td>\n",
       "      <td>0.0</td>\n",
       "      <td>0.0</td>\n",
       "      <td>0.0</td>\n",
       "      <td>0.0</td>\n",
       "      <td>0.0</td>\n",
       "      <td>2.0</td>\n",
       "    </tr>\n",
       "    <tr>\n",
       "      <th>3</th>\n",
       "      <td>0.0</td>\n",
       "      <td>12136938.0</td>\n",
       "      <td>110</td>\n",
       "      <td>0.676269</td>\n",
       "      <td>6.6</td>\n",
       "      <td>1993.0</td>\n",
       "      <td>10.0</td>\n",
       "      <td>R</td>\n",
       "      <td>0.0</td>\n",
       "      <td>0.0</td>\n",
       "      <td>...</td>\n",
       "      <td>1.0</td>\n",
       "      <td>0.0</td>\n",
       "      <td>0.0</td>\n",
       "      <td>0.0</td>\n",
       "      <td>0.0</td>\n",
       "      <td>0.0</td>\n",
       "      <td>0.0</td>\n",
       "      <td>0.0</td>\n",
       "      <td>0.0</td>\n",
       "      <td>3.0</td>\n",
       "    </tr>\n",
       "    <tr>\n",
       "      <th>4</th>\n",
       "      <td>42000.0</td>\n",
       "      <td>0.0</td>\n",
       "      <td>80</td>\n",
       "      <td>0.125477</td>\n",
       "      <td>5.2</td>\n",
       "      <td>2006.0</td>\n",
       "      <td>1.0</td>\n",
       "      <td>Missing</td>\n",
       "      <td>0.0</td>\n",
       "      <td>0.0</td>\n",
       "      <td>...</td>\n",
       "      <td>0.0</td>\n",
       "      <td>1.0</td>\n",
       "      <td>0.0</td>\n",
       "      <td>0.0</td>\n",
       "      <td>0.0</td>\n",
       "      <td>0.0</td>\n",
       "      <td>0.0</td>\n",
       "      <td>0.0</td>\n",
       "      <td>0.0</td>\n",
       "      <td>1.0</td>\n",
       "    </tr>\n",
       "  </tbody>\n",
       "</table>\n",
       "<p>5 rows × 437 columns</p>\n",
       "</div>"
      ],
      "text/plain": [
       "      budget     revenue runtime popularity  user_rating  release_year  \\\n",
       "0        0.0         0.0      69   0.623849          6.8        1988.0   \n",
       "1        0.0         0.0      76   0.288572          6.8        1986.0   \n",
       "2  4000000.0   4300000.0      98    1.76899          6.4        1995.0   \n",
       "3        0.0  12136938.0     110   0.676269          6.6        1993.0   \n",
       "4    42000.0         0.0      80   0.125477          5.2        2006.0   \n",
       "\n",
       "   release_month USA_rating  Warner Bros  Metro-Goldwyn-Mayer MGM     ...      \\\n",
       "0           10.0    Missing          0.0                      0.0     ...       \n",
       "1           10.0    Missing          0.0                      0.0     ...       \n",
       "2           12.0          R          0.0                      0.0     ...       \n",
       "3           10.0          R          0.0                      0.0     ...       \n",
       "4            1.0    Missing          0.0                      0.0     ...       \n",
       "\n",
       "   Crime  Documentary  Science Fiction  Mystery  Music  Romance  Family  War  \\\n",
       "0    1.0          0.0              0.0      0.0    0.0      0.0     0.0  0.0   \n",
       "1    0.0          0.0              0.0      0.0    0.0      0.0     0.0  0.0   \n",
       "2    1.0          0.0              0.0      0.0    0.0      0.0     0.0  0.0   \n",
       "3    1.0          0.0              0.0      0.0    0.0      0.0     0.0  0.0   \n",
       "4    0.0          1.0              0.0      0.0    0.0      0.0     0.0  0.0   \n",
       "\n",
       "   Foreign  num_genres  \n",
       "0      0.0         2.0  \n",
       "1      0.0         2.0  \n",
       "2      0.0         2.0  \n",
       "3      0.0         3.0  \n",
       "4      0.0         1.0  \n",
       "\n",
       "[5 rows x 437 columns]"
      ]
     },
     "execution_count": 2,
     "metadata": {},
     "output_type": "execute_result"
    }
   ],
   "source": [
    "# read in dataframe\n",
    "data = pd.read_csv(\"data/merged2.csv\")\n",
    "data = data.drop(['Unnamed: 0', 'tmdb_id', 'imdb_id'], axis=1)\n",
    "data.head()"
   ]
  },
  {
   "cell_type": "code",
   "execution_count": 3,
   "metadata": {
    "collapsed": true
   },
   "outputs": [],
   "source": [
    "# convert data types\n",
    "data['runtime'] = data['runtime'].apply(pd.to_numeric, errors='coerce')\n",
    "data['popularity'] = data['popularity'].apply(pd.to_numeric, errors='coerce')\n",
    "\n",
    "# replace nan\n",
    "data['runtime'].fillna(0, inplace=True)\n",
    "data['popularity'].fillna(0, inplace=True)"
   ]
  },
  {
   "cell_type": "code",
   "execution_count": 4,
   "metadata": {},
   "outputs": [
    {
     "data": {
      "text/plain": [
       "(80086, 437)"
      ]
     },
     "execution_count": 4,
     "metadata": {},
     "output_type": "execute_result"
    }
   ],
   "source": [
    "data.shape"
   ]
  },
  {
   "cell_type": "code",
   "execution_count": 5,
   "metadata": {
    "collapsed": true
   },
   "outputs": [],
   "source": [
    "# separate x and y\n",
    "y = data.ix[:, 417:437]\n",
    "x = data.ix[:, 0:417]"
   ]
  },
  {
   "cell_type": "code",
   "execution_count": 6,
   "metadata": {},
   "outputs": [
    {
     "data": {
      "text/html": [
       "<div>\n",
       "<table border=\"1\" class=\"dataframe\">\n",
       "  <thead>\n",
       "    <tr style=\"text-align: right;\">\n",
       "      <th></th>\n",
       "      <th>Adventure</th>\n",
       "      <th>Fantasy</th>\n",
       "      <th>Animation</th>\n",
       "      <th>Drama</th>\n",
       "      <th>Horror</th>\n",
       "      <th>Action</th>\n",
       "      <th>Comedy</th>\n",
       "      <th>History</th>\n",
       "      <th>Western</th>\n",
       "      <th>Thriller</th>\n",
       "      <th>Crime</th>\n",
       "      <th>Documentary</th>\n",
       "      <th>Science Fiction</th>\n",
       "      <th>Mystery</th>\n",
       "      <th>Music</th>\n",
       "      <th>Romance</th>\n",
       "      <th>Family</th>\n",
       "      <th>War</th>\n",
       "      <th>Foreign</th>\n",
       "      <th>num_genres</th>\n",
       "    </tr>\n",
       "  </thead>\n",
       "  <tbody>\n",
       "    <tr>\n",
       "      <th>0</th>\n",
       "      <td>0.0</td>\n",
       "      <td>0.0</td>\n",
       "      <td>0.0</td>\n",
       "      <td>1.0</td>\n",
       "      <td>0.0</td>\n",
       "      <td>0.0</td>\n",
       "      <td>0.0</td>\n",
       "      <td>0.0</td>\n",
       "      <td>0.0</td>\n",
       "      <td>0.0</td>\n",
       "      <td>1.0</td>\n",
       "      <td>0.0</td>\n",
       "      <td>0.0</td>\n",
       "      <td>0.0</td>\n",
       "      <td>0.0</td>\n",
       "      <td>0.0</td>\n",
       "      <td>0.0</td>\n",
       "      <td>0.0</td>\n",
       "      <td>0.0</td>\n",
       "      <td>2.0</td>\n",
       "    </tr>\n",
       "    <tr>\n",
       "      <th>1</th>\n",
       "      <td>0.0</td>\n",
       "      <td>0.0</td>\n",
       "      <td>0.0</td>\n",
       "      <td>1.0</td>\n",
       "      <td>0.0</td>\n",
       "      <td>0.0</td>\n",
       "      <td>1.0</td>\n",
       "      <td>0.0</td>\n",
       "      <td>0.0</td>\n",
       "      <td>0.0</td>\n",
       "      <td>0.0</td>\n",
       "      <td>0.0</td>\n",
       "      <td>0.0</td>\n",
       "      <td>0.0</td>\n",
       "      <td>0.0</td>\n",
       "      <td>0.0</td>\n",
       "      <td>0.0</td>\n",
       "      <td>0.0</td>\n",
       "      <td>0.0</td>\n",
       "      <td>2.0</td>\n",
       "    </tr>\n",
       "    <tr>\n",
       "      <th>2</th>\n",
       "      <td>0.0</td>\n",
       "      <td>0.0</td>\n",
       "      <td>0.0</td>\n",
       "      <td>0.0</td>\n",
       "      <td>0.0</td>\n",
       "      <td>0.0</td>\n",
       "      <td>1.0</td>\n",
       "      <td>0.0</td>\n",
       "      <td>0.0</td>\n",
       "      <td>0.0</td>\n",
       "      <td>1.0</td>\n",
       "      <td>0.0</td>\n",
       "      <td>0.0</td>\n",
       "      <td>0.0</td>\n",
       "      <td>0.0</td>\n",
       "      <td>0.0</td>\n",
       "      <td>0.0</td>\n",
       "      <td>0.0</td>\n",
       "      <td>0.0</td>\n",
       "      <td>2.0</td>\n",
       "    </tr>\n",
       "    <tr>\n",
       "      <th>3</th>\n",
       "      <td>0.0</td>\n",
       "      <td>0.0</td>\n",
       "      <td>0.0</td>\n",
       "      <td>0.0</td>\n",
       "      <td>0.0</td>\n",
       "      <td>1.0</td>\n",
       "      <td>0.0</td>\n",
       "      <td>0.0</td>\n",
       "      <td>0.0</td>\n",
       "      <td>1.0</td>\n",
       "      <td>1.0</td>\n",
       "      <td>0.0</td>\n",
       "      <td>0.0</td>\n",
       "      <td>0.0</td>\n",
       "      <td>0.0</td>\n",
       "      <td>0.0</td>\n",
       "      <td>0.0</td>\n",
       "      <td>0.0</td>\n",
       "      <td>0.0</td>\n",
       "      <td>3.0</td>\n",
       "    </tr>\n",
       "    <tr>\n",
       "      <th>4</th>\n",
       "      <td>0.0</td>\n",
       "      <td>0.0</td>\n",
       "      <td>0.0</td>\n",
       "      <td>0.0</td>\n",
       "      <td>0.0</td>\n",
       "      <td>0.0</td>\n",
       "      <td>0.0</td>\n",
       "      <td>0.0</td>\n",
       "      <td>0.0</td>\n",
       "      <td>0.0</td>\n",
       "      <td>0.0</td>\n",
       "      <td>1.0</td>\n",
       "      <td>0.0</td>\n",
       "      <td>0.0</td>\n",
       "      <td>0.0</td>\n",
       "      <td>0.0</td>\n",
       "      <td>0.0</td>\n",
       "      <td>0.0</td>\n",
       "      <td>0.0</td>\n",
       "      <td>1.0</td>\n",
       "    </tr>\n",
       "  </tbody>\n",
       "</table>\n",
       "</div>"
      ],
      "text/plain": [
       "   Adventure  Fantasy  Animation  Drama  Horror  Action  Comedy  History  \\\n",
       "0        0.0      0.0        0.0    1.0     0.0     0.0     0.0      0.0   \n",
       "1        0.0      0.0        0.0    1.0     0.0     0.0     1.0      0.0   \n",
       "2        0.0      0.0        0.0    0.0     0.0     0.0     1.0      0.0   \n",
       "3        0.0      0.0        0.0    0.0     0.0     1.0     0.0      0.0   \n",
       "4        0.0      0.0        0.0    0.0     0.0     0.0     0.0      0.0   \n",
       "\n",
       "   Western  Thriller  Crime  Documentary  Science Fiction  Mystery  Music  \\\n",
       "0      0.0       0.0    1.0          0.0              0.0      0.0    0.0   \n",
       "1      0.0       0.0    0.0          0.0              0.0      0.0    0.0   \n",
       "2      0.0       0.0    1.0          0.0              0.0      0.0    0.0   \n",
       "3      0.0       1.0    1.0          0.0              0.0      0.0    0.0   \n",
       "4      0.0       0.0    0.0          1.0              0.0      0.0    0.0   \n",
       "\n",
       "   Romance  Family  War  Foreign  num_genres  \n",
       "0      0.0     0.0  0.0      0.0         2.0  \n",
       "1      0.0     0.0  0.0      0.0         2.0  \n",
       "2      0.0     0.0  0.0      0.0         2.0  \n",
       "3      0.0     0.0  0.0      0.0         3.0  \n",
       "4      0.0     0.0  0.0      0.0         1.0  "
      ]
     },
     "execution_count": 6,
     "metadata": {},
     "output_type": "execute_result"
    }
   ],
   "source": [
    "y.head()"
   ]
  },
  {
   "cell_type": "code",
   "execution_count": 7,
   "metadata": {},
   "outputs": [
    {
     "data": {
      "text/plain": [
       "(80086, 20)"
      ]
     },
     "execution_count": 7,
     "metadata": {},
     "output_type": "execute_result"
    }
   ],
   "source": [
    "y.shape"
   ]
  },
  {
   "cell_type": "code",
   "execution_count": 8,
   "metadata": {},
   "outputs": [
    {
     "data": {
      "text/html": [
       "<div>\n",
       "<table border=\"1\" class=\"dataframe\">\n",
       "  <thead>\n",
       "    <tr style=\"text-align: right;\">\n",
       "      <th></th>\n",
       "      <th>budget</th>\n",
       "      <th>revenue</th>\n",
       "      <th>runtime</th>\n",
       "      <th>popularity</th>\n",
       "      <th>user_rating</th>\n",
       "      <th>release_year</th>\n",
       "      <th>release_month</th>\n",
       "      <th>USA_rating</th>\n",
       "      <th>Warner Bros</th>\n",
       "      <th>Metro-Goldwyn-Mayer MGM</th>\n",
       "      <th>...</th>\n",
       "      <th>word_work</th>\n",
       "      <th>word_working</th>\n",
       "      <th>word_works</th>\n",
       "      <th>word_world</th>\n",
       "      <th>word_writer</th>\n",
       "      <th>word_written</th>\n",
       "      <th>word_year</th>\n",
       "      <th>word_years</th>\n",
       "      <th>word_york</th>\n",
       "      <th>word_young</th>\n",
       "    </tr>\n",
       "  </thead>\n",
       "  <tbody>\n",
       "    <tr>\n",
       "      <th>0</th>\n",
       "      <td>0.0</td>\n",
       "      <td>0.0</td>\n",
       "      <td>69.0</td>\n",
       "      <td>0.623849</td>\n",
       "      <td>6.8</td>\n",
       "      <td>1988.0</td>\n",
       "      <td>10.0</td>\n",
       "      <td>Missing</td>\n",
       "      <td>0.0</td>\n",
       "      <td>0.0</td>\n",
       "      <td>...</td>\n",
       "      <td>0.0</td>\n",
       "      <td>0.0</td>\n",
       "      <td>0.0</td>\n",
       "      <td>0.000000</td>\n",
       "      <td>0.0</td>\n",
       "      <td>0.000000</td>\n",
       "      <td>0.0</td>\n",
       "      <td>0.0</td>\n",
       "      <td>0.000000</td>\n",
       "      <td>0.0</td>\n",
       "    </tr>\n",
       "    <tr>\n",
       "      <th>1</th>\n",
       "      <td>0.0</td>\n",
       "      <td>0.0</td>\n",
       "      <td>76.0</td>\n",
       "      <td>0.288572</td>\n",
       "      <td>6.8</td>\n",
       "      <td>1986.0</td>\n",
       "      <td>10.0</td>\n",
       "      <td>Missing</td>\n",
       "      <td>0.0</td>\n",
       "      <td>0.0</td>\n",
       "      <td>...</td>\n",
       "      <td>0.0</td>\n",
       "      <td>0.0</td>\n",
       "      <td>0.0</td>\n",
       "      <td>0.000000</td>\n",
       "      <td>0.0</td>\n",
       "      <td>0.000000</td>\n",
       "      <td>0.0</td>\n",
       "      <td>0.0</td>\n",
       "      <td>0.000000</td>\n",
       "      <td>0.0</td>\n",
       "    </tr>\n",
       "    <tr>\n",
       "      <th>2</th>\n",
       "      <td>4000000.0</td>\n",
       "      <td>4300000.0</td>\n",
       "      <td>98.0</td>\n",
       "      <td>1.768986</td>\n",
       "      <td>6.4</td>\n",
       "      <td>1995.0</td>\n",
       "      <td>12.0</td>\n",
       "      <td>R</td>\n",
       "      <td>0.0</td>\n",
       "      <td>0.0</td>\n",
       "      <td>...</td>\n",
       "      <td>0.0</td>\n",
       "      <td>0.0</td>\n",
       "      <td>0.0</td>\n",
       "      <td>0.000000</td>\n",
       "      <td>0.0</td>\n",
       "      <td>0.000000</td>\n",
       "      <td>0.0</td>\n",
       "      <td>0.0</td>\n",
       "      <td>0.000000</td>\n",
       "      <td>0.0</td>\n",
       "    </tr>\n",
       "    <tr>\n",
       "      <th>3</th>\n",
       "      <td>0.0</td>\n",
       "      <td>12136938.0</td>\n",
       "      <td>110.0</td>\n",
       "      <td>0.676269</td>\n",
       "      <td>6.6</td>\n",
       "      <td>1993.0</td>\n",
       "      <td>10.0</td>\n",
       "      <td>R</td>\n",
       "      <td>0.0</td>\n",
       "      <td>0.0</td>\n",
       "      <td>...</td>\n",
       "      <td>0.0</td>\n",
       "      <td>0.0</td>\n",
       "      <td>0.0</td>\n",
       "      <td>0.000000</td>\n",
       "      <td>0.0</td>\n",
       "      <td>0.000000</td>\n",
       "      <td>0.0</td>\n",
       "      <td>0.0</td>\n",
       "      <td>0.000000</td>\n",
       "      <td>0.0</td>\n",
       "    </tr>\n",
       "    <tr>\n",
       "      <th>4</th>\n",
       "      <td>42000.0</td>\n",
       "      <td>0.0</td>\n",
       "      <td>80.0</td>\n",
       "      <td>0.125477</td>\n",
       "      <td>5.2</td>\n",
       "      <td>2006.0</td>\n",
       "      <td>1.0</td>\n",
       "      <td>Missing</td>\n",
       "      <td>0.0</td>\n",
       "      <td>0.0</td>\n",
       "      <td>...</td>\n",
       "      <td>0.0</td>\n",
       "      <td>0.0</td>\n",
       "      <td>0.0</td>\n",
       "      <td>0.119018</td>\n",
       "      <td>0.0</td>\n",
       "      <td>0.180166</td>\n",
       "      <td>0.0</td>\n",
       "      <td>0.0</td>\n",
       "      <td>0.165786</td>\n",
       "      <td>0.0</td>\n",
       "    </tr>\n",
       "  </tbody>\n",
       "</table>\n",
       "<p>5 rows × 417 columns</p>\n",
       "</div>"
      ],
      "text/plain": [
       "      budget     revenue  runtime  popularity  user_rating  release_year  \\\n",
       "0        0.0         0.0     69.0    0.623849          6.8        1988.0   \n",
       "1        0.0         0.0     76.0    0.288572          6.8        1986.0   \n",
       "2  4000000.0   4300000.0     98.0    1.768986          6.4        1995.0   \n",
       "3        0.0  12136938.0    110.0    0.676269          6.6        1993.0   \n",
       "4    42000.0         0.0     80.0    0.125477          5.2        2006.0   \n",
       "\n",
       "   release_month USA_rating  Warner Bros  Metro-Goldwyn-Mayer MGM     ...      \\\n",
       "0           10.0    Missing          0.0                      0.0     ...       \n",
       "1           10.0    Missing          0.0                      0.0     ...       \n",
       "2           12.0          R          0.0                      0.0     ...       \n",
       "3           10.0          R          0.0                      0.0     ...       \n",
       "4            1.0    Missing          0.0                      0.0     ...       \n",
       "\n",
       "   word_work  word_working  word_works  word_world  word_writer  word_written  \\\n",
       "0        0.0           0.0         0.0    0.000000          0.0      0.000000   \n",
       "1        0.0           0.0         0.0    0.000000          0.0      0.000000   \n",
       "2        0.0           0.0         0.0    0.000000          0.0      0.000000   \n",
       "3        0.0           0.0         0.0    0.000000          0.0      0.000000   \n",
       "4        0.0           0.0         0.0    0.119018          0.0      0.180166   \n",
       "\n",
       "   word_year  word_years  word_york  word_young  \n",
       "0        0.0         0.0   0.000000         0.0  \n",
       "1        0.0         0.0   0.000000         0.0  \n",
       "2        0.0         0.0   0.000000         0.0  \n",
       "3        0.0         0.0   0.000000         0.0  \n",
       "4        0.0         0.0   0.165786         0.0  \n",
       "\n",
       "[5 rows x 417 columns]"
      ]
     },
     "execution_count": 8,
     "metadata": {},
     "output_type": "execute_result"
    }
   ],
   "source": [
    "x.head()"
   ]
  },
  {
   "cell_type": "code",
   "execution_count": 9,
   "metadata": {},
   "outputs": [
    {
     "data": {
      "text/plain": [
       "(80086, 417)"
      ]
     },
     "execution_count": 9,
     "metadata": {},
     "output_type": "execute_result"
    }
   ],
   "source": [
    "x.shape"
   ]
  },
  {
   "cell_type": "code",
   "execution_count": 10,
   "metadata": {
    "collapsed": true
   },
   "outputs": [],
   "source": [
    "# get dummy variables for release_year, release_month, USA_rating\n",
    "x = pd.get_dummies(x, columns=['release_year', 'release_month', 'USA_rating'])"
   ]
  },
  {
   "cell_type": "code",
   "execution_count": 12,
   "metadata": {
    "collapsed": true
   },
   "outputs": [],
   "source": [
    "# create training and testing sets (66% train, 33% test)\n",
    "np.random.seed(123)\n",
    "x_train, x_test, y_train, y_test = train_test_split(x, y, test_size=0.33)"
   ]
  },
  {
   "cell_type": "code",
   "execution_count": 13,
   "metadata": {},
   "outputs": [
    {
     "data": {
      "text/plain": [
       "(53657, 581)"
      ]
     },
     "execution_count": 13,
     "metadata": {},
     "output_type": "execute_result"
    }
   ],
   "source": [
    "x_train.shape"
   ]
  },
  {
   "cell_type": "code",
   "execution_count": 14,
   "metadata": {},
   "outputs": [
    {
     "data": {
      "text/plain": [
       "(26429, 581)"
      ]
     },
     "execution_count": 14,
     "metadata": {},
     "output_type": "execute_result"
    }
   ],
   "source": [
    "x_test.shape"
   ]
  },
  {
   "cell_type": "code",
   "execution_count": 15,
   "metadata": {
    "collapsed": true
   },
   "outputs": [],
   "source": [
    "# select 19 genre classes\n",
    "y_train19 = y_train.ix[:, 0:19]\n",
    "y_test19 = y_test.ix[:, 0:19]"
   ]
  },
  {
   "cell_type": "markdown",
   "metadata": {},
   "source": [
    "---"
   ]
  },
  {
   "cell_type": "markdown",
   "metadata": {},
   "source": [
    "## Model 0: Baseline Model"
   ]
  },
  {
   "cell_type": "markdown",
   "metadata": {},
   "source": [
    "Here, we create a baseline model, which flags a genre randomly at a probability of around 10%, which is the overall proportion of binary flag '1' across all 19 genres classes. This serves as a benchmark for our two models. "
   ]
  },
  {
   "cell_type": "code",
   "execution_count": 16,
   "metadata": {
    "collapsed": true
   },
   "outputs": [],
   "source": [
    "def random_classifier(df_y):\n",
    "    prop = df_y.sum() / df_y.shape[0]\n",
    "    pred = np.random.binomial(1, np.mean(prop), df_y.shape)\n",
    "    return pred"
   ]
  },
  {
   "cell_type": "code",
   "execution_count": 17,
   "metadata": {},
   "outputs": [
    {
     "data": {
      "text/plain": [
       "Adventure          0.845435\n",
       "Fantasy            0.862575\n",
       "Animation          0.853456\n",
       "Drama              0.568580\n",
       "Horror             0.815808\n",
       "Action             0.780733\n",
       "Comedy             0.659654\n",
       "History            0.878353\n",
       "Western            0.874683\n",
       "Thriller           0.783344\n",
       "Crime              0.831814\n",
       "Documentary        0.824965\n",
       "Science Fiction    0.853646\n",
       "Mystery            0.863597\n",
       "Music              0.864354\n",
       "Romance            0.785312\n",
       "Family             0.844073\n",
       "War                0.878656\n",
       "Foreign            0.841462\n",
       "dtype: float64"
      ]
     },
     "execution_count": 17,
     "metadata": {},
     "output_type": "execute_result"
    }
   ],
   "source": [
    "# naive model\n",
    "np.random.seed(123)\n",
    "pred_baseline = random_classifier(y_test19)\n",
    "\n",
    "# show test accuracies for each class\n",
    "acc_baseline = np.mean(pred_baseline == y_test19)\n",
    "acc_baseline"
   ]
  },
  {
   "cell_type": "code",
   "execution_count": 18,
   "metadata": {},
   "outputs": [
    {
     "name": "stdout",
     "output_type": "stream",
     "text": [
      "Overall baseline accuracy 81.63 %\n",
      "\n"
     ]
    }
   ],
   "source": [
    "# overall accuracy\n",
    "print \"Overall baseline accuracy\", round(acc_baseline.sum() / 19 * 100, 2), \"%\\n\""
   ]
  },
  {
   "cell_type": "markdown",
   "metadata": {},
   "source": [
    "---"
   ]
  },
  {
   "cell_type": "markdown",
   "metadata": {},
   "source": [
    "## Model 1: Random Forest"
   ]
  },
  {
   "cell_type": "markdown",
   "metadata": {},
   "source": [
    "Given this multi-class, multi-label problem, we will employ one-vs-rest (OvR) strategy, which consists of fitting one classifier per genre. For each classifier, the class is fitted against all the other classes. \n",
    "\n",
    "To address the imbalanced nature of this dataset (as discussed in Milestone 2), we will use balanced class weights."
   ]
  },
  {
   "cell_type": "code",
   "execution_count": 19,
   "metadata": {
    "collapsed": true
   },
   "outputs": [],
   "source": [
    "# fit random forest\n",
    "rf = RandomForestClassifier(class_weight=\"balanced\").fit(x_train, y_train19)"
   ]
  },
  {
   "cell_type": "code",
   "execution_count": 20,
   "metadata": {},
   "outputs": [
    {
     "data": {
      "text/plain": [
       "Adventure          0.940142\n",
       "Fantasy            0.960611\n",
       "Animation          0.956412\n",
       "Drama              0.701464\n",
       "Horror             0.906050\n",
       "Action             0.870067\n",
       "Comedy             0.742783\n",
       "History            0.977714\n",
       "Western            0.976806\n",
       "Thriller           0.869764\n",
       "Crime              0.925574\n",
       "Documentary        0.931477\n",
       "Science Fiction    0.948882\n",
       "Mystery            0.960271\n",
       "Music              0.960914\n",
       "Romance            0.884142\n",
       "Family             0.942752\n",
       "War                0.979076\n",
       "Foreign            0.937833\n",
       "dtype: float64"
      ]
     },
     "execution_count": 20,
     "metadata": {},
     "output_type": "execute_result"
    }
   ],
   "source": [
    "# predict on test set\n",
    "pred_rf = rf.predict(x_test)\n",
    "\n",
    "# show test accuracies for each class\n",
    "acc_rf = np.mean(pred_rf == y_test19)\n",
    "acc_rf"
   ]
  },
  {
   "cell_type": "code",
   "execution_count": 21,
   "metadata": {},
   "outputs": [
    {
     "name": "stdout",
     "output_type": "stream",
     "text": [
      "Overall random forest accuracy 91.44 %\n",
      "\n"
     ]
    }
   ],
   "source": [
    "# overall accuracy\n",
    "print \"Overall random forest accuracy\", round(acc_rf.sum() / 19 * 100, 2), \"%\\n\""
   ]
  },
  {
   "cell_type": "code",
   "execution_count": 22,
   "metadata": {
    "collapsed": true
   },
   "outputs": [],
   "source": [
    "# save random forest to disk\n",
    "path = 'models/rf.sav'\n",
    "pickle.dump(rf, open(path, 'wb'))"
   ]
  },
  {
   "cell_type": "markdown",
   "metadata": {},
   "source": [
    "---"
   ]
  },
  {
   "cell_type": "markdown",
   "metadata": {},
   "source": [
    "## Model 2: *k*-Nearest Neighbors"
   ]
  },
  {
   "cell_type": "markdown",
   "metadata": {},
   "source": [
    "We now model the same training set using k-Nearest Neighbors, choosing an arbitrary value of k=5."
   ]
  },
  {
   "cell_type": "code",
   "execution_count": 23,
   "metadata": {
    "collapsed": true
   },
   "outputs": [],
   "source": [
    "# fit knn where k=5\n",
    "knn = KNeighborsClassifier(n_neighbors=5).fit(x_train, y_train19)"
   ]
  },
  {
   "cell_type": "code",
   "execution_count": 24,
   "metadata": {},
   "outputs": [
    {
     "data": {
      "text/plain": [
       "Adventure          0.933331\n",
       "Fantasy            0.955012\n",
       "Animation          0.959628\n",
       "Drama              0.631465\n",
       "Horror             0.887169\n",
       "Action             0.842181\n",
       "Comedy             0.683681\n",
       "History            0.974800\n",
       "Western            0.972455\n",
       "Thriller           0.843089\n",
       "Crime              0.912558\n",
       "Documentary        0.909569\n",
       "Science Fiction    0.941920\n",
       "Mystery            0.954860\n",
       "Music              0.955163\n",
       "Romance            0.854100\n",
       "Family             0.931401\n",
       "War                0.976352\n",
       "Foreign            0.924099\n",
       "dtype: float64"
      ]
     },
     "execution_count": 24,
     "metadata": {},
     "output_type": "execute_result"
    }
   ],
   "source": [
    "# predict on test set\n",
    "pred_knn = knn.predict(x_test)\n",
    "\n",
    "# show test accuracies for each class\n",
    "acc_knn = np.mean(pred_knn == y_test19)\n",
    "acc_knn"
   ]
  },
  {
   "cell_type": "code",
   "execution_count": 25,
   "metadata": {},
   "outputs": [
    {
     "name": "stdout",
     "output_type": "stream",
     "text": [
      "Overall k-nearest neighbors accuracy 89.7 %\n",
      "\n"
     ]
    }
   ],
   "source": [
    "# overall accuracy\n",
    "print \"Overall k-nearest neighbors accuracy\", round(acc_knn.sum() / 19 * 100, 2), \"%\\n\""
   ]
  },
  {
   "cell_type": "code",
   "execution_count": 22,
   "metadata": {
    "collapsed": true
   },
   "outputs": [],
   "source": [
    "# save knn to disk\n",
    "path = 'models/knn.sav'\n",
    "pickle.dump(knn, open(path, 'wb'))"
   ]
  },
  {
   "cell_type": "markdown",
   "metadata": {},
   "source": [
    "---"
   ]
  },
  {
   "cell_type": "markdown",
   "metadata": {},
   "source": [
    "SVM was considered as an alternative model but not used in view of computation time.\n",
    "\n",
    "Since sklearn's support vector classifier does not have inherent multi-label support, we wrap it with the OneVsRestClassifer function. In view of computation time, we used a linear kernel here (rather than RBF)."
   ]
  },
  {
   "cell_type": "code",
   "execution_count": null,
   "metadata": {
    "collapsed": true
   },
   "outputs": [],
   "source": [
    "# fit linear svm\n",
    "svm = OneVsRestClassifier(SVC(kernel='linear', class_weight='balanced')).fit(x_train, y_train19)"
   ]
  },
  {
   "cell_type": "markdown",
   "metadata": {},
   "source": [
    "---"
   ]
  },
  {
   "cell_type": "markdown",
   "metadata": {},
   "source": [
    "## Logistic Regression Model for Number of Genre Labels"
   ]
  },
  {
   "cell_type": "markdown",
   "metadata": {},
   "source": [
    "In addition to the 19 genre outcomes, we would like another model that can predict the number of genres to be assigned to each movie. Using this predicted number, we can then assign genres to each test movie when we also have the predicted probabilities of every genre (obtained from above models). Here, we use logistic regression to predict the number of genre labels, by treating it as a categorical variable (with multiple classes)."
   ]
  },
  {
   "cell_type": "code",
   "execution_count": 81,
   "metadata": {
    "collapsed": true
   },
   "outputs": [],
   "source": [
    "# select number of genre labels as outcome\n",
    "y_train20 = y_train.ix[:, 19]\n",
    "y_test20 = y_test.ix[:, 19]"
   ]
  },
  {
   "cell_type": "code",
   "execution_count": 92,
   "metadata": {
    "collapsed": true
   },
   "outputs": [],
   "source": [
    "# fit logistic regression\n",
    "log = LogisticRegression(class_weight='balanced').fit(x_train, y_train20)"
   ]
  },
  {
   "cell_type": "code",
   "execution_count": 95,
   "metadata": {},
   "outputs": [
    {
     "name": "stdout",
     "output_type": "stream",
     "text": [
      "Overall accuracy: 32.85 %\n",
      "\n",
      "Confusion matrix:\n"
     ]
    },
    {
     "data": {
      "text/html": [
       "<div>\n",
       "<table border=\"1\" class=\"dataframe\">\n",
       "  <thead>\n",
       "    <tr style=\"text-align: right;\">\n",
       "      <th>Predicted</th>\n",
       "      <th>0.0</th>\n",
       "      <th>1.0</th>\n",
       "      <th>2.0</th>\n",
       "      <th>3.0</th>\n",
       "      <th>4.0</th>\n",
       "      <th>5.0</th>\n",
       "      <th>6.0</th>\n",
       "      <th>7.0</th>\n",
       "      <th>All</th>\n",
       "    </tr>\n",
       "    <tr>\n",
       "      <th>True</th>\n",
       "      <th></th>\n",
       "      <th></th>\n",
       "      <th></th>\n",
       "      <th></th>\n",
       "      <th></th>\n",
       "      <th></th>\n",
       "      <th></th>\n",
       "      <th></th>\n",
       "      <th></th>\n",
       "    </tr>\n",
       "  </thead>\n",
       "  <tbody>\n",
       "    <tr>\n",
       "      <th>2.0</th>\n",
       "      <td>47</td>\n",
       "      <td>11206</td>\n",
       "      <td>8416</td>\n",
       "      <td>4040</td>\n",
       "      <td>1132</td>\n",
       "      <td>229</td>\n",
       "      <td>35</td>\n",
       "      <td>7</td>\n",
       "      <td>25112</td>\n",
       "    </tr>\n",
       "    <tr>\n",
       "      <th>3.0</th>\n",
       "      <td>0</td>\n",
       "      <td>194</td>\n",
       "      <td>299</td>\n",
       "      <td>262</td>\n",
       "      <td>166</td>\n",
       "      <td>56</td>\n",
       "      <td>14</td>\n",
       "      <td>0</td>\n",
       "      <td>991</td>\n",
       "    </tr>\n",
       "    <tr>\n",
       "      <th>4.0</th>\n",
       "      <td>0</td>\n",
       "      <td>2</td>\n",
       "      <td>2</td>\n",
       "      <td>2</td>\n",
       "      <td>0</td>\n",
       "      <td>0</td>\n",
       "      <td>0</td>\n",
       "      <td>0</td>\n",
       "      <td>6</td>\n",
       "    </tr>\n",
       "    <tr>\n",
       "      <th>5.0</th>\n",
       "      <td>0</td>\n",
       "      <td>1</td>\n",
       "      <td>0</td>\n",
       "      <td>0</td>\n",
       "      <td>0</td>\n",
       "      <td>1</td>\n",
       "      <td>0</td>\n",
       "      <td>0</td>\n",
       "      <td>2</td>\n",
       "    </tr>\n",
       "    <tr>\n",
       "      <th>6.0</th>\n",
       "      <td>0</td>\n",
       "      <td>42</td>\n",
       "      <td>46</td>\n",
       "      <td>73</td>\n",
       "      <td>53</td>\n",
       "      <td>22</td>\n",
       "      <td>4</td>\n",
       "      <td>0</td>\n",
       "      <td>240</td>\n",
       "    </tr>\n",
       "    <tr>\n",
       "      <th>7.0</th>\n",
       "      <td>0</td>\n",
       "      <td>2</td>\n",
       "      <td>9</td>\n",
       "      <td>32</td>\n",
       "      <td>9</td>\n",
       "      <td>9</td>\n",
       "      <td>1</td>\n",
       "      <td>0</td>\n",
       "      <td>62</td>\n",
       "    </tr>\n",
       "    <tr>\n",
       "      <th>8.0</th>\n",
       "      <td>0</td>\n",
       "      <td>4</td>\n",
       "      <td>0</td>\n",
       "      <td>3</td>\n",
       "      <td>0</td>\n",
       "      <td>0</td>\n",
       "      <td>0</td>\n",
       "      <td>0</td>\n",
       "      <td>7</td>\n",
       "    </tr>\n",
       "    <tr>\n",
       "      <th>10.0</th>\n",
       "      <td>0</td>\n",
       "      <td>3</td>\n",
       "      <td>4</td>\n",
       "      <td>1</td>\n",
       "      <td>1</td>\n",
       "      <td>0</td>\n",
       "      <td>0</td>\n",
       "      <td>0</td>\n",
       "      <td>9</td>\n",
       "    </tr>\n",
       "    <tr>\n",
       "      <th>All</th>\n",
       "      <td>47</td>\n",
       "      <td>11454</td>\n",
       "      <td>8776</td>\n",
       "      <td>4413</td>\n",
       "      <td>1361</td>\n",
       "      <td>317</td>\n",
       "      <td>54</td>\n",
       "      <td>7</td>\n",
       "      <td>26429</td>\n",
       "    </tr>\n",
       "  </tbody>\n",
       "</table>\n",
       "</div>"
      ],
      "text/plain": [
       "Predicted  0.0    1.0   2.0   3.0   4.0  5.0  6.0  7.0    All\n",
       "True                                                         \n",
       "2.0         47  11206  8416  4040  1132  229   35    7  25112\n",
       "3.0          0    194   299   262   166   56   14    0    991\n",
       "4.0          0      2     2     2     0    0    0    0      6\n",
       "5.0          0      1     0     0     0    1    0    0      2\n",
       "6.0          0     42    46    73    53   22    4    0    240\n",
       "7.0          0      2     9    32     9    9    1    0     62\n",
       "8.0          0      4     0     3     0    0    0    0      7\n",
       "10.0         0      3     4     1     1    0    0    0      9\n",
       "All         47  11454  8776  4413  1361  317   54    7  26429"
      ]
     },
     "execution_count": 95,
     "metadata": {},
     "output_type": "execute_result"
    }
   ],
   "source": [
    "# predict on test set\n",
    "pred_log = log.predict(x_test)\n",
    "\n",
    "# calculate accuracy\n",
    "acc_log = np.mean(pred_log == y_test20)\n",
    "\n",
    "print \"Overall accuracy:\", round(acc_log * 100, 2), \"%\\n\"\n",
    "print \"Confusion matrix:\"\n",
    "pd.crosstab(pred_log, y_test20, rownames=['True'], colnames=['Predicted'], margins=True)"
   ]
  },
  {
   "cell_type": "markdown",
   "metadata": {},
   "source": [
    "We note that the accuracy of this model which predicts the number of genre labels is fairly low. This is partly due to a large number of classes.\n",
    "\n",
    "However, we know from earlier data exploration that the majority of movies are tagged with 3 or less genres (see Milestone 2). If we believe that it is more important to have few but highly accurate genre tags, as opposed to more but less accurate tags, then in the final combined prediction, we should simply assign each movie 1 or 2 genres with the highest predicted probabilities (eg. from the random forest), rather than also trying to predict the number of genre labels."
   ]
  },
  {
   "cell_type": "code",
   "execution_count": 96,
   "metadata": {
    "collapsed": true
   },
   "outputs": [],
   "source": [
    "# save log to disk\n",
    "path = 'models/log.sav'\n",
    "pickle.dump(log, open(path, 'wb'))"
   ]
  },
  {
   "cell_type": "markdown",
   "metadata": {},
   "source": [
    "---"
   ]
  },
  {
   "cell_type": "markdown",
   "metadata": {},
   "source": [
    "## Model Comparison"
   ]
  },
  {
   "cell_type": "markdown",
   "metadata": {},
   "source": [
    "Here, we visualize the performance of the two models across the 19 genres."
   ]
  },
  {
   "cell_type": "code",
   "execution_count": 26,
   "metadata": {
    "collapsed": true
   },
   "outputs": [],
   "source": [
    "# convert accuracies to dataframe \n",
    "acc1 = pd.DataFrame(acc_baseline, columns=['Baseline'])\n",
    "acc2 = pd.DataFrame(acc_knn, columns=['KNN'])\n",
    "acc3 = pd.DataFrame(acc_rf, columns=['Random Forest'])\n",
    "\n",
    "# merge into one dataframe\n",
    "acc = pd.concat([acc1, acc2, acc3], axis=1)"
   ]
  },
  {
   "cell_type": "code",
   "execution_count": 27,
   "metadata": {
    "collapsed": true
   },
   "outputs": [],
   "source": [
    "# save to csv\n",
    "acc.to_csv('model_acc.csv')"
   ]
  },
  {
   "cell_type": "code",
   "execution_count": 73,
   "metadata": {},
   "outputs": [
    {
     "data": {
      "image/png": "[encoded data removed]",
      "text/plain": [
       "<matplotlib.figure.Figure at 0x22cf7da0>"
      ]
     },
     "metadata": {},
     "output_type": "display_data"
    }
   ],
   "source": [
    "# create plot\n",
    "fig, ax = plt.subplots(figsize=(20,7))\n",
    "pos = list(range(len(acc['Baseline'])))\n",
    "width = 0.23\n",
    "\n",
    "# baseline bars\n",
    "plt.bar(pos, acc['Baseline'], width, alpha=0.5, color='green', label='Baseline')\n",
    "\n",
    "# knn bars\n",
    "plt.bar([p + width for p in pos], acc['KNN'], width, alpha=0.5, color='b', label='KNN')\n",
    "\n",
    "# random forest bars\n",
    "plt.bar([p + width*2 for p in pos], acc['Random Forest'], width, alpha=0.5, color='r', label='Random Forest')\n",
    "\n",
    "# labels\n",
    "ax.set_ylabel('Genre')\n",
    "ax.set_ylabel('Test Accuracy')\n",
    "ax.set_title('Model Evaluation')\n",
    "ax.set_xticks([p + 1.5 * width for p in pos])\n",
    "ax.set_xticklabels(acc.index)\n",
    "\n",
    "# limits\n",
    "plt.xlim(min(pos)-width, max(pos)+width*4)\n",
    "plt.ylim(0.5, 1.0)\n",
    "\n",
    "# overall accuracies\n",
    "plt.axhline(y=0.91, color='r', linestyle='dashed')\n",
    "plt.axhline(y=0.89, color='b', linestyle='dashed')\n",
    "plt.axhline(y=0.81, color='g', linestyle='dashed')\n",
    "\n",
    "plt.legend(loc='lower left')\n",
    "plt.grid()\n",
    "plt.tight_layout()\n",
    "plt.show()"
   ]
  },
  {
   "cell_type": "markdown",
   "metadata": {},
   "source": [
    "In general, both models achieved pretty similar test accuracy results across all classes, with the random forest model (overall accuracy 91%) slightly edging out the kNN model (overall accuracy 89%). Both models performed better than the baseline model (overall accuracy 81%), which was intentionally designed as a very high benchmark. The hardest genres to predict correctly were drama and comedy (test accuracies below 80%). Both models are able to deal well with non-linear decision boundaries. "
   ]
  },
  {
   "cell_type": "markdown",
   "metadata": {},
   "source": [
    "---"
   ]
  },
  {
   "cell_type": "markdown",
   "metadata": {},
   "source": [
    "## Discussion"
   ]
  },
  {
   "cell_type": "markdown",
   "metadata": {},
   "source": [
    "We believe these are the strengths of our models:\n",
    "- Large sample size (~80,000 observations total, ~54,000 in training set and ~26,000 in testing set)\n",
    "- Wide variety of promising predictors which were gathered from both IMDb and TMDb\n",
    "- Use of methods that were appropriate for the multi-label problem\n",
    "- Accounted for class imbalance\n",
    "\n",
    "Our models had several weaknesses which we could have improved on as follows:\n",
    "- The parameters of our models were not optimized. Given more time, we would conduct parameter tuning of our models to improve their performance.\n",
    "- We note the large number of predictor (X) variables in our dataset (almost 900 including dummy variables). We could have applied PCA prior to modelling for dimensionality reduction. We could have also coded 'release year' into decades or five-year intervals instead of dummy-coding it directly to reduce the number of predictors somewhat.\n",
    "- We could have incorporated poster data into our models. However, conversion of the w500 posters into pixel arrays resulted in a large matrix with 1,125,000 features (see Milestone 2). Given the large size of this matrix, it would not have been possible to load and manipulate it on our local machines.\n",
    "- We could have scaled (normalized) our data prior to modelling. (However, random forest is scale invariant.)\n",
    "- We could have explored other ML models such as SVM, LDA/QDA, boosting etc.\n",
    "- We could have considered other performance metrics such as precision/recall, F1 score etc."
   ]
  },
  {
   "cell_type": "markdown",
   "metadata": {},
   "source": [
    "---"
   ]
  },
  {
   "cell_type": "markdown",
   "metadata": {},
   "source": [
    "## Next Steps"
   ]
  },
  {
   "cell_type": "markdown",
   "metadata": {
    "collapsed": true
   },
   "source": [
    "Moving forward, we will employ deep learning for the genre prediction task and train a network using movie poster images on AWS. We can compare its performance to the above traditional models trained on movie metadata and even combine both together. "
   ]
  }
 ],
 "metadata": {
  "anaconda-cloud": {},
  "kernelspec": {
   "display_name": "Python [Root]",
   "language": "python",
   "name": "Python [Root]"
  },
  "language_info": {
   "codemirror_mode": {
    "name": "ipython",
    "version": 2
   },
   "file_extension": ".py",
   "mimetype": "text/x-python",
   "name": "python",
   "nbconvert_exporter": "python",
   "pygments_lexer": "ipython2",
   "version": "2.7.12"
  }
 },
 "nbformat": 4,
 "nbformat_minor": 1
}
